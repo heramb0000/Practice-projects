{
 "cells": [
  {
   "cell_type": "code",
   "execution_count": 1,
   "id": "738531e3-9c56-4a7a-b5b5-5b1b730dea60",
   "metadata": {},
   "outputs": [],
   "source": [
    "# importing necessary libraries\n",
    "import pandas as pd\n",
    "import numpy as np\n",
    "import matplotlib.pyplot as plt\n",
    "import seaborn as sns\n",
    "\n",
    "import warnings\n",
    "warnings.filterwarnings(\"ignore\")"
   ]
  },
  {
   "cell_type": "code",
   "execution_count": 2,
   "id": "0a458f14-e832-44d2-aa9b-639953e51f56",
   "metadata": {},
   "outputs": [
    {
     "data": {
      "text/html": [
       "<div>\n",
       "<style scoped>\n",
       "    .dataframe tbody tr th:only-of-type {\n",
       "        vertical-align: middle;\n",
       "    }\n",
       "\n",
       "    .dataframe tbody tr th {\n",
       "        vertical-align: top;\n",
       "    }\n",
       "\n",
       "    .dataframe thead th {\n",
       "        text-align: right;\n",
       "    }\n",
       "</style>\n",
       "<table border=\"1\" class=\"dataframe\">\n",
       "  <thead>\n",
       "    <tr style=\"text-align: right;\">\n",
       "      <th></th>\n",
       "      <th>ID</th>\n",
       "      <th>age</th>\n",
       "      <th>job</th>\n",
       "      <th>marital</th>\n",
       "      <th>education</th>\n",
       "      <th>default</th>\n",
       "      <th>balance</th>\n",
       "      <th>housing</th>\n",
       "      <th>loan</th>\n",
       "      <th>contact</th>\n",
       "      <th>day</th>\n",
       "      <th>month</th>\n",
       "      <th>duration</th>\n",
       "      <th>campaign</th>\n",
       "      <th>pdays</th>\n",
       "      <th>previous</th>\n",
       "      <th>poutcome</th>\n",
       "      <th>subscribed</th>\n",
       "    </tr>\n",
       "  </thead>\n",
       "  <tbody>\n",
       "    <tr>\n",
       "      <th>0</th>\n",
       "      <td>26110</td>\n",
       "      <td>56</td>\n",
       "      <td>admin.</td>\n",
       "      <td>married</td>\n",
       "      <td>unknown</td>\n",
       "      <td>no</td>\n",
       "      <td>1933</td>\n",
       "      <td>no</td>\n",
       "      <td>no</td>\n",
       "      <td>telephone</td>\n",
       "      <td>19</td>\n",
       "      <td>nov</td>\n",
       "      <td>44</td>\n",
       "      <td>2</td>\n",
       "      <td>-1</td>\n",
       "      <td>0</td>\n",
       "      <td>unknown</td>\n",
       "      <td>no</td>\n",
       "    </tr>\n",
       "    <tr>\n",
       "      <th>1</th>\n",
       "      <td>40576</td>\n",
       "      <td>31</td>\n",
       "      <td>unknown</td>\n",
       "      <td>married</td>\n",
       "      <td>secondary</td>\n",
       "      <td>no</td>\n",
       "      <td>3</td>\n",
       "      <td>no</td>\n",
       "      <td>no</td>\n",
       "      <td>cellular</td>\n",
       "      <td>20</td>\n",
       "      <td>jul</td>\n",
       "      <td>91</td>\n",
       "      <td>2</td>\n",
       "      <td>-1</td>\n",
       "      <td>0</td>\n",
       "      <td>unknown</td>\n",
       "      <td>no</td>\n",
       "    </tr>\n",
       "    <tr>\n",
       "      <th>2</th>\n",
       "      <td>15320</td>\n",
       "      <td>27</td>\n",
       "      <td>services</td>\n",
       "      <td>married</td>\n",
       "      <td>secondary</td>\n",
       "      <td>no</td>\n",
       "      <td>891</td>\n",
       "      <td>yes</td>\n",
       "      <td>no</td>\n",
       "      <td>cellular</td>\n",
       "      <td>18</td>\n",
       "      <td>jul</td>\n",
       "      <td>240</td>\n",
       "      <td>1</td>\n",
       "      <td>-1</td>\n",
       "      <td>0</td>\n",
       "      <td>unknown</td>\n",
       "      <td>no</td>\n",
       "    </tr>\n",
       "    <tr>\n",
       "      <th>3</th>\n",
       "      <td>43962</td>\n",
       "      <td>57</td>\n",
       "      <td>management</td>\n",
       "      <td>divorced</td>\n",
       "      <td>tertiary</td>\n",
       "      <td>no</td>\n",
       "      <td>3287</td>\n",
       "      <td>no</td>\n",
       "      <td>no</td>\n",
       "      <td>cellular</td>\n",
       "      <td>22</td>\n",
       "      <td>jun</td>\n",
       "      <td>867</td>\n",
       "      <td>1</td>\n",
       "      <td>84</td>\n",
       "      <td>3</td>\n",
       "      <td>success</td>\n",
       "      <td>yes</td>\n",
       "    </tr>\n",
       "    <tr>\n",
       "      <th>4</th>\n",
       "      <td>29842</td>\n",
       "      <td>31</td>\n",
       "      <td>technician</td>\n",
       "      <td>married</td>\n",
       "      <td>secondary</td>\n",
       "      <td>no</td>\n",
       "      <td>119</td>\n",
       "      <td>yes</td>\n",
       "      <td>no</td>\n",
       "      <td>cellular</td>\n",
       "      <td>4</td>\n",
       "      <td>feb</td>\n",
       "      <td>380</td>\n",
       "      <td>1</td>\n",
       "      <td>-1</td>\n",
       "      <td>0</td>\n",
       "      <td>unknown</td>\n",
       "      <td>no</td>\n",
       "    </tr>\n",
       "    <tr>\n",
       "      <th>5</th>\n",
       "      <td>29390</td>\n",
       "      <td>33</td>\n",
       "      <td>management</td>\n",
       "      <td>single</td>\n",
       "      <td>tertiary</td>\n",
       "      <td>no</td>\n",
       "      <td>0</td>\n",
       "      <td>yes</td>\n",
       "      <td>no</td>\n",
       "      <td>cellular</td>\n",
       "      <td>2</td>\n",
       "      <td>feb</td>\n",
       "      <td>116</td>\n",
       "      <td>3</td>\n",
       "      <td>-1</td>\n",
       "      <td>0</td>\n",
       "      <td>unknown</td>\n",
       "      <td>no</td>\n",
       "    </tr>\n",
       "    <tr>\n",
       "      <th>6</th>\n",
       "      <td>40444</td>\n",
       "      <td>56</td>\n",
       "      <td>retired</td>\n",
       "      <td>married</td>\n",
       "      <td>secondary</td>\n",
       "      <td>no</td>\n",
       "      <td>1044</td>\n",
       "      <td>no</td>\n",
       "      <td>no</td>\n",
       "      <td>telephone</td>\n",
       "      <td>3</td>\n",
       "      <td>jul</td>\n",
       "      <td>353</td>\n",
       "      <td>2</td>\n",
       "      <td>-1</td>\n",
       "      <td>0</td>\n",
       "      <td>unknown</td>\n",
       "      <td>yes</td>\n",
       "    </tr>\n",
       "    <tr>\n",
       "      <th>7</th>\n",
       "      <td>40194</td>\n",
       "      <td>50</td>\n",
       "      <td>technician</td>\n",
       "      <td>single</td>\n",
       "      <td>secondary</td>\n",
       "      <td>no</td>\n",
       "      <td>1811</td>\n",
       "      <td>no</td>\n",
       "      <td>no</td>\n",
       "      <td>cellular</td>\n",
       "      <td>8</td>\n",
       "      <td>jun</td>\n",
       "      <td>97</td>\n",
       "      <td>4</td>\n",
       "      <td>-1</td>\n",
       "      <td>0</td>\n",
       "      <td>unknown</td>\n",
       "      <td>no</td>\n",
       "    </tr>\n",
       "    <tr>\n",
       "      <th>8</th>\n",
       "      <td>29824</td>\n",
       "      <td>45</td>\n",
       "      <td>blue-collar</td>\n",
       "      <td>divorced</td>\n",
       "      <td>secondary</td>\n",
       "      <td>no</td>\n",
       "      <td>1951</td>\n",
       "      <td>yes</td>\n",
       "      <td>no</td>\n",
       "      <td>cellular</td>\n",
       "      <td>4</td>\n",
       "      <td>feb</td>\n",
       "      <td>692</td>\n",
       "      <td>1</td>\n",
       "      <td>-1</td>\n",
       "      <td>0</td>\n",
       "      <td>unknown</td>\n",
       "      <td>no</td>\n",
       "    </tr>\n",
       "    <tr>\n",
       "      <th>9</th>\n",
       "      <td>44676</td>\n",
       "      <td>35</td>\n",
       "      <td>admin.</td>\n",
       "      <td>married</td>\n",
       "      <td>secondary</td>\n",
       "      <td>no</td>\n",
       "      <td>1204</td>\n",
       "      <td>no</td>\n",
       "      <td>no</td>\n",
       "      <td>cellular</td>\n",
       "      <td>3</td>\n",
       "      <td>sep</td>\n",
       "      <td>789</td>\n",
       "      <td>2</td>\n",
       "      <td>-1</td>\n",
       "      <td>0</td>\n",
       "      <td>unknown</td>\n",
       "      <td>no</td>\n",
       "    </tr>\n",
       "  </tbody>\n",
       "</table>\n",
       "</div>"
      ],
      "text/plain": [
       "      ID  age          job   marital  education default  balance housing loan  \\\n",
       "0  26110   56       admin.   married    unknown      no     1933      no   no   \n",
       "1  40576   31      unknown   married  secondary      no        3      no   no   \n",
       "2  15320   27     services   married  secondary      no      891     yes   no   \n",
       "3  43962   57   management  divorced   tertiary      no     3287      no   no   \n",
       "4  29842   31   technician   married  secondary      no      119     yes   no   \n",
       "5  29390   33   management    single   tertiary      no        0     yes   no   \n",
       "6  40444   56      retired   married  secondary      no     1044      no   no   \n",
       "7  40194   50   technician    single  secondary      no     1811      no   no   \n",
       "8  29824   45  blue-collar  divorced  secondary      no     1951     yes   no   \n",
       "9  44676   35       admin.   married  secondary      no     1204      no   no   \n",
       "\n",
       "     contact  day month  duration  campaign  pdays  previous poutcome  \\\n",
       "0  telephone   19   nov        44         2     -1         0  unknown   \n",
       "1   cellular   20   jul        91         2     -1         0  unknown   \n",
       "2   cellular   18   jul       240         1     -1         0  unknown   \n",
       "3   cellular   22   jun       867         1     84         3  success   \n",
       "4   cellular    4   feb       380         1     -1         0  unknown   \n",
       "5   cellular    2   feb       116         3     -1         0  unknown   \n",
       "6  telephone    3   jul       353         2     -1         0  unknown   \n",
       "7   cellular    8   jun        97         4     -1         0  unknown   \n",
       "8   cellular    4   feb       692         1     -1         0  unknown   \n",
       "9   cellular    3   sep       789         2     -1         0  unknown   \n",
       "\n",
       "  subscribed  \n",
       "0         no  \n",
       "1         no  \n",
       "2         no  \n",
       "3        yes  \n",
       "4         no  \n",
       "5         no  \n",
       "6        yes  \n",
       "7         no  \n",
       "8         no  \n",
       "9         no  "
      ]
     },
     "execution_count": 2,
     "metadata": {},
     "output_type": "execute_result"
    }
   ],
   "source": [
    "df = pd.read_csv(\"https://raw.githubusercontent.com/FlipRoboTechnologies/ML-Datasets/main/Bank%20Marketing/termdeposit_train.csv\")\n",
    "df.head(10)"
   ]
  },
  {
   "cell_type": "code",
   "execution_count": 3,
   "id": "56b0802b-4e4b-458c-a72d-21a378aaf7af",
   "metadata": {},
   "outputs": [
    {
     "data": {
      "text/plain": [
       "['ID',\n",
       " 'age',\n",
       " 'job',\n",
       " 'marital',\n",
       " 'education',\n",
       " 'default',\n",
       " 'balance',\n",
       " 'housing',\n",
       " 'loan',\n",
       " 'contact',\n",
       " 'day',\n",
       " 'month',\n",
       " 'duration',\n",
       " 'campaign',\n",
       " 'pdays',\n",
       " 'previous',\n",
       " 'poutcome',\n",
       " 'subscribed']"
      ]
     },
     "execution_count": 3,
     "metadata": {},
     "output_type": "execute_result"
    }
   ],
   "source": [
    "# lets check the list of columns we have in the dataset\n",
    "df.columns.to_list()"
   ]
  },
  {
   "cell_type": "code",
   "execution_count": 4,
   "id": "061cb71d-69f8-44fb-956a-f51d4748f999",
   "metadata": {},
   "outputs": [
    {
     "data": {
      "text/plain": [
       "(31647, 18)"
      ]
     },
     "execution_count": 4,
     "metadata": {},
     "output_type": "execute_result"
    }
   ],
   "source": [
    "# Lets check the dimention of the dataset provided\n",
    "df.shape"
   ]
  },
  {
   "cell_type": "code",
   "execution_count": 5,
   "id": "12f9ec9a-e765-478c-8240-cc1d3f808870",
   "metadata": {},
   "outputs": [
    {
     "name": "stdout",
     "output_type": "stream",
     "text": [
      "<class 'pandas.core.frame.DataFrame'>\n",
      "RangeIndex: 31647 entries, 0 to 31646\n",
      "Data columns (total 18 columns):\n",
      " #   Column      Non-Null Count  Dtype \n",
      "---  ------      --------------  ----- \n",
      " 0   ID          31647 non-null  int64 \n",
      " 1   age         31647 non-null  int64 \n",
      " 2   job         31647 non-null  object\n",
      " 3   marital     31647 non-null  object\n",
      " 4   education   31647 non-null  object\n",
      " 5   default     31647 non-null  object\n",
      " 6   balance     31647 non-null  int64 \n",
      " 7   housing     31647 non-null  object\n",
      " 8   loan        31647 non-null  object\n",
      " 9   contact     31647 non-null  object\n",
      " 10  day         31647 non-null  int64 \n",
      " 11  month       31647 non-null  object\n",
      " 12  duration    31647 non-null  int64 \n",
      " 13  campaign    31647 non-null  int64 \n",
      " 14  pdays       31647 non-null  int64 \n",
      " 15  previous    31647 non-null  int64 \n",
      " 16  poutcome    31647 non-null  object\n",
      " 17  subscribed  31647 non-null  object\n",
      "dtypes: int64(8), object(10)\n",
      "memory usage: 4.3+ MB\n"
     ]
    }
   ],
   "source": [
    "# checking the structure\n",
    "df.info()"
   ]
  },
  {
   "cell_type": "code",
   "execution_count": 6,
   "id": "2d51b8e0-0c18-4270-ad18-296bf09b7774",
   "metadata": {},
   "outputs": [
    {
     "data": {
      "text/html": [
       "<div>\n",
       "<style scoped>\n",
       "    .dataframe tbody tr th:only-of-type {\n",
       "        vertical-align: middle;\n",
       "    }\n",
       "\n",
       "    .dataframe tbody tr th {\n",
       "        vertical-align: top;\n",
       "    }\n",
       "\n",
       "    .dataframe thead th {\n",
       "        text-align: right;\n",
       "    }\n",
       "</style>\n",
       "<table border=\"1\" class=\"dataframe\">\n",
       "  <thead>\n",
       "    <tr style=\"text-align: right;\">\n",
       "      <th></th>\n",
       "      <th>ID</th>\n",
       "      <th>age</th>\n",
       "      <th>balance</th>\n",
       "      <th>day</th>\n",
       "      <th>duration</th>\n",
       "      <th>campaign</th>\n",
       "      <th>pdays</th>\n",
       "      <th>previous</th>\n",
       "    </tr>\n",
       "  </thead>\n",
       "  <tbody>\n",
       "    <tr>\n",
       "      <th>count</th>\n",
       "      <td>31647.000000</td>\n",
       "      <td>31647.000000</td>\n",
       "      <td>31647.000000</td>\n",
       "      <td>31647.000000</td>\n",
       "      <td>31647.000000</td>\n",
       "      <td>31647.000000</td>\n",
       "      <td>31647.000000</td>\n",
       "      <td>31647.000000</td>\n",
       "    </tr>\n",
       "    <tr>\n",
       "      <th>mean</th>\n",
       "      <td>22563.972162</td>\n",
       "      <td>40.957247</td>\n",
       "      <td>1363.890258</td>\n",
       "      <td>15.835466</td>\n",
       "      <td>258.113534</td>\n",
       "      <td>2.765697</td>\n",
       "      <td>39.576042</td>\n",
       "      <td>0.574272</td>\n",
       "    </tr>\n",
       "    <tr>\n",
       "      <th>std</th>\n",
       "      <td>13075.936990</td>\n",
       "      <td>10.625134</td>\n",
       "      <td>3028.304293</td>\n",
       "      <td>8.337097</td>\n",
       "      <td>257.118973</td>\n",
       "      <td>3.113830</td>\n",
       "      <td>99.317592</td>\n",
       "      <td>2.422529</td>\n",
       "    </tr>\n",
       "    <tr>\n",
       "      <th>min</th>\n",
       "      <td>2.000000</td>\n",
       "      <td>18.000000</td>\n",
       "      <td>-8019.000000</td>\n",
       "      <td>1.000000</td>\n",
       "      <td>0.000000</td>\n",
       "      <td>1.000000</td>\n",
       "      <td>-1.000000</td>\n",
       "      <td>0.000000</td>\n",
       "    </tr>\n",
       "    <tr>\n",
       "      <th>25%</th>\n",
       "      <td>11218.000000</td>\n",
       "      <td>33.000000</td>\n",
       "      <td>73.000000</td>\n",
       "      <td>8.000000</td>\n",
       "      <td>104.000000</td>\n",
       "      <td>1.000000</td>\n",
       "      <td>-1.000000</td>\n",
       "      <td>0.000000</td>\n",
       "    </tr>\n",
       "    <tr>\n",
       "      <th>50%</th>\n",
       "      <td>22519.000000</td>\n",
       "      <td>39.000000</td>\n",
       "      <td>450.000000</td>\n",
       "      <td>16.000000</td>\n",
       "      <td>180.000000</td>\n",
       "      <td>2.000000</td>\n",
       "      <td>-1.000000</td>\n",
       "      <td>0.000000</td>\n",
       "    </tr>\n",
       "    <tr>\n",
       "      <th>75%</th>\n",
       "      <td>33879.500000</td>\n",
       "      <td>48.000000</td>\n",
       "      <td>1431.000000</td>\n",
       "      <td>21.000000</td>\n",
       "      <td>318.500000</td>\n",
       "      <td>3.000000</td>\n",
       "      <td>-1.000000</td>\n",
       "      <td>0.000000</td>\n",
       "    </tr>\n",
       "    <tr>\n",
       "      <th>max</th>\n",
       "      <td>45211.000000</td>\n",
       "      <td>95.000000</td>\n",
       "      <td>102127.000000</td>\n",
       "      <td>31.000000</td>\n",
       "      <td>4918.000000</td>\n",
       "      <td>63.000000</td>\n",
       "      <td>871.000000</td>\n",
       "      <td>275.000000</td>\n",
       "    </tr>\n",
       "  </tbody>\n",
       "</table>\n",
       "</div>"
      ],
      "text/plain": [
       "                 ID           age        balance           day      duration  \\\n",
       "count  31647.000000  31647.000000   31647.000000  31647.000000  31647.000000   \n",
       "mean   22563.972162     40.957247    1363.890258     15.835466    258.113534   \n",
       "std    13075.936990     10.625134    3028.304293      8.337097    257.118973   \n",
       "min        2.000000     18.000000   -8019.000000      1.000000      0.000000   \n",
       "25%    11218.000000     33.000000      73.000000      8.000000    104.000000   \n",
       "50%    22519.000000     39.000000     450.000000     16.000000    180.000000   \n",
       "75%    33879.500000     48.000000    1431.000000     21.000000    318.500000   \n",
       "max    45211.000000     95.000000  102127.000000     31.000000   4918.000000   \n",
       "\n",
       "           campaign         pdays      previous  \n",
       "count  31647.000000  31647.000000  31647.000000  \n",
       "mean       2.765697     39.576042      0.574272  \n",
       "std        3.113830     99.317592      2.422529  \n",
       "min        1.000000     -1.000000      0.000000  \n",
       "25%        1.000000     -1.000000      0.000000  \n",
       "50%        2.000000     -1.000000      0.000000  \n",
       "75%        3.000000     -1.000000      0.000000  \n",
       "max       63.000000    871.000000    275.000000  "
      ]
     },
     "execution_count": 6,
     "metadata": {},
     "output_type": "execute_result"
    }
   ],
   "source": [
    "# gathering the Stastical information\n",
    "df.describe()"
   ]
  },
  {
   "cell_type": "code",
   "execution_count": 7,
   "id": "01e4cb28-4ca2-4eae-9978-40274bf160ab",
   "metadata": {},
   "outputs": [
    {
     "name": "stdout",
     "output_type": "stream",
     "text": [
      "job\n",
      "['admin.' 'unknown' 'services' 'management' 'technician' 'retired'\n",
      " 'blue-collar' 'housemaid' 'self-employed' 'student' 'entrepreneur'\n",
      " 'unemployed']\n",
      "marital\n",
      "['married' 'divorced' 'single']\n",
      "education\n",
      "['unknown' 'secondary' 'tertiary' 'primary']\n",
      "default\n",
      "['no' 'yes']\n",
      "housing\n",
      "['no' 'yes']\n",
      "loan\n",
      "['no' 'yes']\n",
      "contact\n",
      "['telephone' 'cellular' 'unknown']\n",
      "month\n",
      "['nov' 'jul' 'jun' 'feb' 'sep' 'jan' 'may' 'aug' 'apr' 'oct' 'mar' 'dec']\n",
      "poutcome\n",
      "['unknown' 'success' 'failure' 'other']\n",
      "subscribed\n",
      "['no' 'yes']\n"
     ]
    }
   ],
   "source": [
    "for col in df.select_dtypes(include=\"object\").columns:\n",
    "    print(col)\n",
    "    print(df[col].unique())"
   ]
  },
  {
   "cell_type": "code",
   "execution_count": 8,
   "id": "dcaa828d-17c3-4f30-a8e4-082385c13d91",
   "metadata": {},
   "outputs": [
    {
     "data": {
      "text/html": [
       "<div>\n",
       "<style scoped>\n",
       "    .dataframe tbody tr th:only-of-type {\n",
       "        vertical-align: middle;\n",
       "    }\n",
       "\n",
       "    .dataframe tbody tr th {\n",
       "        vertical-align: top;\n",
       "    }\n",
       "\n",
       "    .dataframe thead th {\n",
       "        text-align: right;\n",
       "    }\n",
       "</style>\n",
       "<table border=\"1\" class=\"dataframe\">\n",
       "  <thead>\n",
       "    <tr style=\"text-align: right;\">\n",
       "      <th></th>\n",
       "      <th>age</th>\n",
       "      <th>job</th>\n",
       "      <th>marital</th>\n",
       "      <th>education</th>\n",
       "      <th>default</th>\n",
       "      <th>balance</th>\n",
       "      <th>housing</th>\n",
       "      <th>loan</th>\n",
       "      <th>contact</th>\n",
       "      <th>day</th>\n",
       "      <th>month</th>\n",
       "      <th>duration</th>\n",
       "      <th>campaign</th>\n",
       "      <th>pdays</th>\n",
       "      <th>previous</th>\n",
       "      <th>poutcome</th>\n",
       "      <th>subscribed</th>\n",
       "    </tr>\n",
       "  </thead>\n",
       "  <tbody>\n",
       "    <tr>\n",
       "      <th>24349</th>\n",
       "      <td>53</td>\n",
       "      <td>services</td>\n",
       "      <td>married</td>\n",
       "      <td>primary</td>\n",
       "      <td>no</td>\n",
       "      <td>46</td>\n",
       "      <td>yes</td>\n",
       "      <td>no</td>\n",
       "      <td>unknown</td>\n",
       "      <td>7</td>\n",
       "      <td>may</td>\n",
       "      <td>274</td>\n",
       "      <td>1</td>\n",
       "      <td>-1</td>\n",
       "      <td>0</td>\n",
       "      <td>unknown</td>\n",
       "      <td>no</td>\n",
       "    </tr>\n",
       "    <tr>\n",
       "      <th>12850</th>\n",
       "      <td>38</td>\n",
       "      <td>entrepreneur</td>\n",
       "      <td>divorced</td>\n",
       "      <td>secondary</td>\n",
       "      <td>no</td>\n",
       "      <td>36</td>\n",
       "      <td>no</td>\n",
       "      <td>no</td>\n",
       "      <td>cellular</td>\n",
       "      <td>18</td>\n",
       "      <td>nov</td>\n",
       "      <td>84</td>\n",
       "      <td>2</td>\n",
       "      <td>-1</td>\n",
       "      <td>0</td>\n",
       "      <td>unknown</td>\n",
       "      <td>no</td>\n",
       "    </tr>\n",
       "    <tr>\n",
       "      <th>27070</th>\n",
       "      <td>57</td>\n",
       "      <td>admin.</td>\n",
       "      <td>married</td>\n",
       "      <td>secondary</td>\n",
       "      <td>no</td>\n",
       "      <td>367</td>\n",
       "      <td>no</td>\n",
       "      <td>no</td>\n",
       "      <td>telephone</td>\n",
       "      <td>16</td>\n",
       "      <td>nov</td>\n",
       "      <td>107</td>\n",
       "      <td>2</td>\n",
       "      <td>-1</td>\n",
       "      <td>0</td>\n",
       "      <td>unknown</td>\n",
       "      <td>no</td>\n",
       "    </tr>\n",
       "    <tr>\n",
       "      <th>20846</th>\n",
       "      <td>32</td>\n",
       "      <td>self-employed</td>\n",
       "      <td>divorced</td>\n",
       "      <td>tertiary</td>\n",
       "      <td>no</td>\n",
       "      <td>3695</td>\n",
       "      <td>yes</td>\n",
       "      <td>no</td>\n",
       "      <td>cellular</td>\n",
       "      <td>15</td>\n",
       "      <td>may</td>\n",
       "      <td>34</td>\n",
       "      <td>1</td>\n",
       "      <td>353</td>\n",
       "      <td>3</td>\n",
       "      <td>other</td>\n",
       "      <td>no</td>\n",
       "    </tr>\n",
       "    <tr>\n",
       "      <th>24370</th>\n",
       "      <td>36</td>\n",
       "      <td>blue-collar</td>\n",
       "      <td>married</td>\n",
       "      <td>unknown</td>\n",
       "      <td>no</td>\n",
       "      <td>-389</td>\n",
       "      <td>yes</td>\n",
       "      <td>no</td>\n",
       "      <td>unknown</td>\n",
       "      <td>14</td>\n",
       "      <td>may</td>\n",
       "      <td>76</td>\n",
       "      <td>9</td>\n",
       "      <td>-1</td>\n",
       "      <td>0</td>\n",
       "      <td>unknown</td>\n",
       "      <td>no</td>\n",
       "    </tr>\n",
       "    <tr>\n",
       "      <th>29856</th>\n",
       "      <td>36</td>\n",
       "      <td>admin.</td>\n",
       "      <td>single</td>\n",
       "      <td>secondary</td>\n",
       "      <td>no</td>\n",
       "      <td>98</td>\n",
       "      <td>yes</td>\n",
       "      <td>no</td>\n",
       "      <td>unknown</td>\n",
       "      <td>21</td>\n",
       "      <td>may</td>\n",
       "      <td>68</td>\n",
       "      <td>1</td>\n",
       "      <td>-1</td>\n",
       "      <td>0</td>\n",
       "      <td>unknown</td>\n",
       "      <td>no</td>\n",
       "    </tr>\n",
       "    <tr>\n",
       "      <th>686</th>\n",
       "      <td>38</td>\n",
       "      <td>services</td>\n",
       "      <td>married</td>\n",
       "      <td>tertiary</td>\n",
       "      <td>no</td>\n",
       "      <td>1324</td>\n",
       "      <td>yes</td>\n",
       "      <td>no</td>\n",
       "      <td>cellular</td>\n",
       "      <td>3</td>\n",
       "      <td>feb</td>\n",
       "      <td>178</td>\n",
       "      <td>1</td>\n",
       "      <td>-1</td>\n",
       "      <td>0</td>\n",
       "      <td>unknown</td>\n",
       "      <td>no</td>\n",
       "    </tr>\n",
       "    <tr>\n",
       "      <th>16962</th>\n",
       "      <td>38</td>\n",
       "      <td>management</td>\n",
       "      <td>single</td>\n",
       "      <td>unknown</td>\n",
       "      <td>no</td>\n",
       "      <td>715</td>\n",
       "      <td>yes</td>\n",
       "      <td>no</td>\n",
       "      <td>cellular</td>\n",
       "      <td>21</td>\n",
       "      <td>nov</td>\n",
       "      <td>140</td>\n",
       "      <td>1</td>\n",
       "      <td>185</td>\n",
       "      <td>2</td>\n",
       "      <td>failure</td>\n",
       "      <td>no</td>\n",
       "    </tr>\n",
       "    <tr>\n",
       "      <th>2780</th>\n",
       "      <td>37</td>\n",
       "      <td>blue-collar</td>\n",
       "      <td>married</td>\n",
       "      <td>secondary</td>\n",
       "      <td>no</td>\n",
       "      <td>509</td>\n",
       "      <td>yes</td>\n",
       "      <td>no</td>\n",
       "      <td>cellular</td>\n",
       "      <td>20</td>\n",
       "      <td>apr</td>\n",
       "      <td>172</td>\n",
       "      <td>1</td>\n",
       "      <td>-1</td>\n",
       "      <td>0</td>\n",
       "      <td>unknown</td>\n",
       "      <td>no</td>\n",
       "    </tr>\n",
       "    <tr>\n",
       "      <th>9509</th>\n",
       "      <td>27</td>\n",
       "      <td>management</td>\n",
       "      <td>single</td>\n",
       "      <td>tertiary</td>\n",
       "      <td>no</td>\n",
       "      <td>2849</td>\n",
       "      <td>no</td>\n",
       "      <td>no</td>\n",
       "      <td>cellular</td>\n",
       "      <td>5</td>\n",
       "      <td>feb</td>\n",
       "      <td>335</td>\n",
       "      <td>1</td>\n",
       "      <td>-1</td>\n",
       "      <td>0</td>\n",
       "      <td>unknown</td>\n",
       "      <td>no</td>\n",
       "    </tr>\n",
       "  </tbody>\n",
       "</table>\n",
       "</div>"
      ],
      "text/plain": [
       "       age            job   marital  education default  balance housing loan  \\\n",
       "24349   53       services   married    primary      no       46     yes   no   \n",
       "12850   38   entrepreneur  divorced  secondary      no       36      no   no   \n",
       "27070   57         admin.   married  secondary      no      367      no   no   \n",
       "20846   32  self-employed  divorced   tertiary      no     3695     yes   no   \n",
       "24370   36    blue-collar   married    unknown      no     -389     yes   no   \n",
       "29856   36         admin.    single  secondary      no       98     yes   no   \n",
       "686     38       services   married   tertiary      no     1324     yes   no   \n",
       "16962   38     management    single    unknown      no      715     yes   no   \n",
       "2780    37    blue-collar   married  secondary      no      509     yes   no   \n",
       "9509    27     management    single   tertiary      no     2849      no   no   \n",
       "\n",
       "         contact  day month  duration  campaign  pdays  previous poutcome  \\\n",
       "24349    unknown    7   may       274         1     -1         0  unknown   \n",
       "12850   cellular   18   nov        84         2     -1         0  unknown   \n",
       "27070  telephone   16   nov       107         2     -1         0  unknown   \n",
       "20846   cellular   15   may        34         1    353         3    other   \n",
       "24370    unknown   14   may        76         9     -1         0  unknown   \n",
       "29856    unknown   21   may        68         1     -1         0  unknown   \n",
       "686     cellular    3   feb       178         1     -1         0  unknown   \n",
       "16962   cellular   21   nov       140         1    185         2  failure   \n",
       "2780    cellular   20   apr       172         1     -1         0  unknown   \n",
       "9509    cellular    5   feb       335         1     -1         0  unknown   \n",
       "\n",
       "      subscribed  \n",
       "24349         no  \n",
       "12850         no  \n",
       "27070         no  \n",
       "20846         no  \n",
       "24370         no  \n",
       "29856         no  \n",
       "686           no  \n",
       "16962         no  \n",
       "2780          no  \n",
       "9509          no  "
      ]
     },
     "execution_count": 8,
     "metadata": {},
     "output_type": "execute_result"
    }
   ],
   "source": [
    "# dropping the Id columns as it doesnt contribute to the subscription analysis\n",
    "df.drop(columns=[\"ID\"],axis=1,inplace=True)\n",
    "df.sample(10)"
   ]
  },
  {
   "cell_type": "markdown",
   "id": "f50e35c8-b77a-4357-adc9-f7a9d5bde060",
   "metadata": {},
   "source": [
    "## Exploratory data analysis\n",
    "- Find unwanted columns\n",
    "- Find Missing Values\n",
    "- Find Features with One value\n",
    "- Explore The categorical features\n",
    "- Find categorical feature distribution\n",
    "- relationship between categorical features and label\n",
    "- Explore the numerical columns\n",
    "- Find discrete numerical features\n",
    "- Relation between discrete numerical features and target variable\n",
    "- find continuous Numerical features\n",
    "- Relation between continuous numerical feature and target variable\n",
    "- Find outliers Between numerical features\n",
    "- Explore the correlation between numerical features\n",
    "- find pairplot\n",
    "- check the dataset is balanced or not based on target varible in classification."
   ]
  },
  {
   "cell_type": "markdown",
   "id": "b9ccc5d0-e8d6-4e83-a0d0-b341c5094da9",
   "metadata": {},
   "source": [
    "### 1. Finding the unwanted columns\n",
    "\n",
    "The unwanted column was Id which we removed earlier."
   ]
  },
  {
   "cell_type": "markdown",
   "id": "60429cd4-8b31-4f01-9c81-5eec9c62d454",
   "metadata": {},
   "source": [
    "### 2.Find the missing values"
   ]
  },
  {
   "cell_type": "code",
   "execution_count": 9,
   "id": "e7e65198-8230-432b-8ade-479ed8fcf778",
   "metadata": {},
   "outputs": [
    {
     "name": "stdout",
     "output_type": "stream",
     "text": [
      "NO missing values\n"
     ]
    }
   ],
   "source": [
    "features_na = [features for features in df.columns if df[features].isnull().sum()>0]\n",
    "for feature in features_na:\n",
    "    print(feature,np.round(df[feature].isnull().mean(),4,\"% missing values\"))\n",
    "else:\n",
    "    print(\"NO missing values\")"
   ]
  },
  {
   "cell_type": "markdown",
   "id": "d7fc1993-9168-4293-8aed-40bfe506fd35",
   "metadata": {},
   "source": [
    "### 3.Find feature with one value"
   ]
  },
  {
   "cell_type": "code",
   "execution_count": 10,
   "id": "4e6d877f-67c2-4332-ba2a-db3035c3dfe2",
   "metadata": {},
   "outputs": [
    {
     "name": "stdout",
     "output_type": "stream",
     "text": [
      "age 76\n",
      "job 12\n",
      "marital 3\n",
      "education 4\n",
      "default 2\n",
      "balance 6326\n",
      "housing 2\n",
      "loan 2\n",
      "contact 3\n",
      "day 31\n",
      "month 12\n",
      "duration 1454\n",
      "campaign 45\n",
      "pdays 509\n",
      "previous 38\n",
      "poutcome 4\n",
      "subscribed 2\n"
     ]
    }
   ],
   "source": [
    "for col in df.columns:\n",
    "    print(col,df[col].nunique())"
   ]
  },
  {
   "cell_type": "markdown",
   "id": "82ca715c-101e-4ee8-ac49-7555796974a8",
   "metadata": {},
   "source": [
    "Thus there is no feature with one value"
   ]
  },
  {
   "cell_type": "markdown",
   "id": "ef61003b-d720-438d-98ff-a8099e2bc4e8",
   "metadata": {},
   "source": [
    "### 4. Explore the categorical feature"
   ]
  },
  {
   "cell_type": "code",
   "execution_count": 11,
   "id": "366929c8-9c47-4ce1-ae79-88bd5ea7c27c",
   "metadata": {},
   "outputs": [
    {
     "data": {
      "text/plain": [
       "['job',\n",
       " 'marital',\n",
       " 'education',\n",
       " 'default',\n",
       " 'housing',\n",
       " 'loan',\n",
       " 'contact',\n",
       " 'month',\n",
       " 'poutcome']"
      ]
     },
     "execution_count": 11,
     "metadata": {},
     "output_type": "execute_result"
    }
   ],
   "source": [
    "categorical_features = [feature for feature in df.columns if ((df[feature].dtype=='O')&(feature not in ['subscribed']))]\n",
    "categorical_features"
   ]
  },
  {
   "cell_type": "code",
   "execution_count": 12,
   "id": "805a1c50-0698-4787-8c04-21db0ab48fac",
   "metadata": {},
   "outputs": [
    {
     "name": "stdout",
     "output_type": "stream",
     "text": [
      "job have 12 number of categories\n",
      "marital have 3 number of categories\n",
      "education have 4 number of categories\n",
      "default have 2 number of categories\n",
      "housing have 2 number of categories\n",
      "loan have 2 number of categories\n",
      "contact have 3 number of categories\n",
      "month have 12 number of categories\n",
      "poutcome have 4 number of categories\n"
     ]
    }
   ],
   "source": [
    "for feature in categorical_features:\n",
    "    print(\"{} have {} number of categories\".format(feature,len(df[feature].unique())) )"
   ]
  },
  {
   "cell_type": "markdown",
   "id": "4f8ad839-4c46-4522-922f-dc8ebf95ee50",
   "metadata": {},
   "source": [
    "### 5. Find categorical feature distribution"
   ]
  },
  {
   "cell_type": "code",
   "execution_count": 13,
   "id": "2117dbfa-267a-487f-8d98-46794cc0ddc9",
   "metadata": {},
   "outputs": [
    {
     "data": {
      "image/png": "[encoded data removed]",
      "text/plain": [
       "<Figure size 1500x8000 with 9 Axes>"
      ]
     },
     "metadata": {},
     "output_type": "display_data"
    }
   ],
   "source": [
    "# check count based on categorical features\n",
    "plt.figure(figsize=(15,80))\n",
    "plotnumber=1\n",
    "for categorical_feature in categorical_features:\n",
    "    ax = plt.subplot(12,3,plotnumber)\n",
    "    sns.countplot(y=categorical_feature,data=df)\n",
    "    plt.xlabel(categorical_feature)\n",
    "    plt.title(\"Distribution of \"+ categorical_feature)\n",
    "    plotnumber+=1\n",
    "plt.show()"
   ]
  },
  {
   "cell_type": "markdown",
   "id": "cb765567-a1f0-4ac6-9e1b-31940c608bc7",
   "metadata": {},
   "source": [
    "### Observations :\n",
    "1) The number of Clients with job type as Blue collar and management are quite high as compared to others. While, the number of clients with jobtypes as student and unknown are very less.\n",
    "2) Number of married clients contributes more in the given dataset.\n",
    "3) The number of clients having secondary education is more as comapred to tertiary followed by primary.\n",
    "4) default feature doesn't seems to have any important role as it has value of no at high ratio ro value yes which we can drop.\n",
    "5) the number of client having Housing loan are slightly more than the clients with no Housing loan.\n",
    "6) The number of client with \"no\" Personal loan is far more than the clients having personal loan.\n",
    "7) Data in the month of may is the highest and in december it's the lowest."
   ]
  },
  {
   "cell_type": "markdown",
   "id": "1b785c4d-8658-46bd-ad7d-73327dbbc171",
   "metadata": {},
   "source": [
    "### 6. Relationship between categorical feature and target variable"
   ]
  },
  {
   "cell_type": "code",
   "execution_count": 14,
   "id": "0850ec4a-427f-42e6-bc8f-d9adc624d785",
   "metadata": {},
   "outputs": [
    {
     "data": {
      "image/png": "[encoded data removed]",
      "text/plain": [
       "<Figure size 6000x500 with 12 Axes>"
      ]
     },
     "metadata": {},
     "output_type": "display_data"
    },
    {
     "data": {
      "image/png": "[encoded data removed]",
      "text/plain": [
       "<Figure size 1500x500 with 3 Axes>"
      ]
     },
     "metadata": {},
     "output_type": "display_data"
    },
    {
     "data": {
      "image/png": "[encoded data removed]",
      "text/plain": [
       "<Figure size 2000x500 with 4 Axes>"
      ]
     },
     "metadata": {},
     "output_type": "display_data"
    },
    {
     "data": {
      "image/png": "[encoded data removed]",
      "text/plain": [
       "<Figure size 1000x500 with 2 Axes>"
      ]
     },
     "metadata": {},
     "output_type": "display_data"
    },
    {
     "data": {
      "image/png": "[encoded data removed]",
      "text/plain": [
       "<Figure size 1000x500 with 2 Axes>"
      ]
     },
     "metadata": {},
     "output_type": "display_data"
    },
    {
     "data": {
      "image/png": "[encoded data removed]",
      "text/plain": [
       "<Figure size 1000x500 with 2 Axes>"
      ]
     },
     "metadata": {},
     "output_type": "display_data"
    },
    {
     "data": {
      "image/png": "[encoded data removed]",
      "text/plain": [
       "<Figure size 1500x500 with 3 Axes>"
      ]
     },
     "metadata": {},
     "output_type": "display_data"
    },
    {
     "data": {
      "image/png": "[encoded data removed]",
      "text/plain": [
       "<Figure size 6000x500 with 12 Axes>"
      ]
     },
     "metadata": {},
     "output_type": "display_data"
    },
    {
     "data": {
      "image/png": "[encoded data removed]",
      "text/plain": [
       "<Figure size 2000x500 with 4 Axes>"
      ]
     },
     "metadata": {},
     "output_type": "display_data"
    }
   ],
   "source": [
    "# check the Target variable split over categorical features\n",
    "# find out the relationship between categorical variable and dependent variable\n",
    "\n",
    "for categorical_feature in categorical_features:\n",
    "    sns.catplot(x=\"subscribed\",col=categorical_feature,kind=\"count\",data=df)\n",
    "\n",
    "plt.show()"
   ]
  },
  {
   "cell_type": "code",
   "execution_count": 15,
   "id": "325317b7-aaa5-49d4-a66e-c94bf4879a17",
   "metadata": {},
   "outputs": [
    {
     "name": "stdout",
     "output_type": "stream",
     "text": [
      "subscribed  job          \n",
      "no          admin.           3179\n",
      "            blue-collar      6353\n",
      "            entrepreneur      923\n",
      "            housemaid         795\n",
      "            management       5716\n",
      "            retired          1212\n",
      "            self-employed     983\n",
      "            services         2649\n",
      "            student           453\n",
      "            technician       4713\n",
      "            unemployed        776\n",
      "            unknown           180\n",
      "yes         admin.            452\n",
      "            blue-collar       489\n",
      "            entrepreneur       85\n",
      "            housemaid          79\n",
      "            management        923\n",
      "            retired           362\n",
      "            self-employed     140\n",
      "            services          254\n",
      "            student           182\n",
      "            technician        594\n",
      "            unemployed        129\n",
      "            unknown            26\n",
      "dtype: int64\n",
      "subscribed  marital \n",
      "no          divorced     3185\n",
      "            married     17176\n",
      "            single       7571\n",
      "yes         divorced      445\n",
      "            married      1919\n",
      "            single       1351\n",
      "dtype: int64\n",
      "subscribed  education\n",
      "no          primary       4381\n",
      "            secondary    14527\n",
      "            tertiary      7886\n",
      "            unknown       1138\n",
      "yes         primary        427\n",
      "            secondary     1697\n",
      "            tertiary      1415\n",
      "            unknown        176\n",
      "dtype: int64\n",
      "subscribed  default\n",
      "no          no         27388\n",
      "            yes          544\n",
      "yes         no          3674\n",
      "            yes           41\n",
      "dtype: int64\n",
      "subscribed  housing\n",
      "no          no         11698\n",
      "            yes        16234\n",
      "yes         no          2365\n",
      "            yes         1350\n",
      "dtype: int64\n",
      "subscribed  loan\n",
      "no          no      23132\n",
      "            yes      4800\n",
      "yes         no       3384\n",
      "            yes       331\n",
      "dtype: int64\n",
      "subscribed  contact  \n",
      "no          cellular     17352\n",
      "            telephone     1779\n",
      "            unknown       8801\n",
      "yes         cellular      3071\n",
      "            telephone      268\n",
      "            unknown        376\n",
      "dtype: int64\n",
      "subscribed  month\n",
      "no          apr      1671\n",
      "            aug      3813\n",
      "            dec        85\n",
      "            feb      1522\n",
      "            jan       880\n",
      "            jul      4403\n",
      "            jun      3355\n",
      "            mar       168\n",
      "            may      9020\n",
      "            nov      2508\n",
      "            oct       288\n",
      "            sep       219\n",
      "yes         apr       384\n",
      "            aug       520\n",
      "            dec        72\n",
      "            feb       305\n",
      "            jan        97\n",
      "            jul       441\n",
      "            jun       383\n",
      "            mar       174\n",
      "            may       649\n",
      "            nov       275\n",
      "            oct       224\n",
      "            sep       191\n",
      "dtype: int64\n",
      "subscribed  poutcome\n",
      "no          failure      2931\n",
      "            other        1071\n",
      "            success       374\n",
      "            unknown     23556\n",
      "yes         failure       431\n",
      "            other         217\n",
      "            success       694\n",
      "            unknown      2373\n",
      "dtype: int64\n"
     ]
    }
   ],
   "source": [
    "# check target variable split over categorical featues and find the count\n",
    "for categorical_feature in categorical_features:\n",
    "    print(df.groupby([\"subscribed\",categorical_feature]).size())"
   ]
  },
  {
   "cell_type": "markdown",
   "id": "02990f52-60d8-4eeb-a2e2-2e719dd8100a",
   "metadata": {},
   "source": [
    "#### Observations:\n",
    "1) Management clients have high  interest in subscription\n",
    "2) client who has Housing loan seems to be not interested much in deposit.\n",
    "3) if pre campaign outcome that is poutcome = success then there is high chance of client to be subscribed.\n",
    "4) In month of august, july and may client show showed high interest in being subscribed."
   ]
  },
  {
   "cell_type": "markdown",
   "id": "b2e25ad0-8397-486d-8419-c36dcbc6bbca",
   "metadata": {},
   "source": [
    "### 7) Explore the numerical features"
   ]
  },
  {
   "cell_type": "code",
   "execution_count": 16,
   "id": "737e85a5-5c8f-4e1b-a965-e8bc330bae91",
   "metadata": {},
   "outputs": [
    {
     "name": "stdout",
     "output_type": "stream",
     "text": [
      "Number of numrical variables:  7\n"
     ]
    }
   ],
   "source": [
    "# list of numerical variables\n",
    "numerical_features = [feature for feature in df.columns if ((df[feature].dtypes!='O')&(feature not in [\"subscribed\"]))]\n",
    "print(\"Number of numrical variables: \",len(numerical_features))\n"
   ]
  },
  {
   "cell_type": "code",
   "execution_count": 17,
   "id": "5db78de9-b22a-44ff-94b3-bfa5178ed8b3",
   "metadata": {},
   "outputs": [
    {
     "data": {
      "text/html": [
       "<div>\n",
       "<style scoped>\n",
       "    .dataframe tbody tr th:only-of-type {\n",
       "        vertical-align: middle;\n",
       "    }\n",
       "\n",
       "    .dataframe tbody tr th {\n",
       "        vertical-align: top;\n",
       "    }\n",
       "\n",
       "    .dataframe thead th {\n",
       "        text-align: right;\n",
       "    }\n",
       "</style>\n",
       "<table border=\"1\" class=\"dataframe\">\n",
       "  <thead>\n",
       "    <tr style=\"text-align: right;\">\n",
       "      <th></th>\n",
       "      <th>age</th>\n",
       "      <th>balance</th>\n",
       "      <th>day</th>\n",
       "      <th>duration</th>\n",
       "      <th>campaign</th>\n",
       "      <th>pdays</th>\n",
       "      <th>previous</th>\n",
       "    </tr>\n",
       "  </thead>\n",
       "  <tbody>\n",
       "    <tr>\n",
       "      <th>0</th>\n",
       "      <td>56</td>\n",
       "      <td>1933</td>\n",
       "      <td>19</td>\n",
       "      <td>44</td>\n",
       "      <td>2</td>\n",
       "      <td>-1</td>\n",
       "      <td>0</td>\n",
       "    </tr>\n",
       "    <tr>\n",
       "      <th>1</th>\n",
       "      <td>31</td>\n",
       "      <td>3</td>\n",
       "      <td>20</td>\n",
       "      <td>91</td>\n",
       "      <td>2</td>\n",
       "      <td>-1</td>\n",
       "      <td>0</td>\n",
       "    </tr>\n",
       "    <tr>\n",
       "      <th>2</th>\n",
       "      <td>27</td>\n",
       "      <td>891</td>\n",
       "      <td>18</td>\n",
       "      <td>240</td>\n",
       "      <td>1</td>\n",
       "      <td>-1</td>\n",
       "      <td>0</td>\n",
       "    </tr>\n",
       "    <tr>\n",
       "      <th>3</th>\n",
       "      <td>57</td>\n",
       "      <td>3287</td>\n",
       "      <td>22</td>\n",
       "      <td>867</td>\n",
       "      <td>1</td>\n",
       "      <td>84</td>\n",
       "      <td>3</td>\n",
       "    </tr>\n",
       "    <tr>\n",
       "      <th>4</th>\n",
       "      <td>31</td>\n",
       "      <td>119</td>\n",
       "      <td>4</td>\n",
       "      <td>380</td>\n",
       "      <td>1</td>\n",
       "      <td>-1</td>\n",
       "      <td>0</td>\n",
       "    </tr>\n",
       "  </tbody>\n",
       "</table>\n",
       "</div>"
      ],
      "text/plain": [
       "   age  balance  day  duration  campaign  pdays  previous\n",
       "0   56     1933   19        44         2     -1         0\n",
       "1   31        3   20        91         2     -1         0\n",
       "2   27      891   18       240         1     -1         0\n",
       "3   57     3287   22       867         1     84         3\n",
       "4   31      119    4       380         1     -1         0"
      ]
     },
     "execution_count": 17,
     "metadata": {},
     "output_type": "execute_result"
    }
   ],
   "source": [
    "# visualise the numerical variables\n",
    "df[numerical_features].head()"
   ]
  },
  {
   "cell_type": "markdown",
   "id": "360c632d-af4b-43bc-a141-3f2a101e5afa",
   "metadata": {},
   "source": [
    "##### so there are 7 Numerical features "
   ]
  },
  {
   "cell_type": "markdown",
   "id": "85e5a8fe-5a5c-4a70-a40d-f585e19aa385",
   "metadata": {},
   "source": [
    "### 8) Find Discrete Numerical Features"
   ]
  },
  {
   "cell_type": "code",
   "execution_count": 18,
   "id": "8ccccdb5-edf1-4993-9924-9daf457f1330",
   "metadata": {},
   "outputs": [
    {
     "name": "stdout",
     "output_type": "stream",
     "text": [
      "Discrete variable count :0\n"
     ]
    }
   ],
   "source": [
    "discrete_feature = [feature for feature in numerical_features if len(df[feature].unique())<25]\n",
    "print(\"Discrete variable count :{}\".format(len(discrete_feature)))"
   ]
  },
  {
   "cell_type": "markdown",
   "id": "18855c7f-976e-4f9b-baf7-6768b69d86ee",
   "metadata": {},
   "source": [
    "### 9) Relation between Discrete numerical feature and dataset\n",
    "\n",
    "##### NA"
   ]
  },
  {
   "cell_type": "markdown",
   "id": "f8846296-7865-416e-a2c8-097a289ab426",
   "metadata": {},
   "source": [
    "### 10) Find continuous numerical feature"
   ]
  },
  {
   "cell_type": "code",
   "execution_count": 19,
   "id": "7dd13876-ee5c-447e-a482-5ae4444f500e",
   "metadata": {},
   "outputs": [
    {
     "name": "stdout",
     "output_type": "stream",
     "text": [
      "Continuous feature count : 7\n"
     ]
    }
   ],
   "source": [
    "continuous_features = [feature for feature in numerical_features if feature not in discrete_feature +[\"subscribed\"]]\n",
    "print(\"Continuous feature count : {}\".format(len(continuous_features)))"
   ]
  },
  {
   "cell_type": "markdown",
   "id": "f5441ce1-ea8f-4884-ac3c-42783e392312",
   "metadata": {},
   "source": [
    "### 11) Distribution of continuous numerical features"
   ]
  },
  {
   "cell_type": "code",
   "execution_count": 20,
   "id": "b38fcee6-218d-4173-9c56-638eac2e008a",
   "metadata": {},
   "outputs": [
    {
     "data": {
      "image/png": "[encoded data removed]",
      "text/plain": [
       "<Figure size 2000x6000 with 7 Axes>"
      ]
     },
     "metadata": {},
     "output_type": "display_data"
    }
   ],
   "source": [
    "# lets plot univarite distribution of continuous feature observations\n",
    "plt.figure(figsize=(20,60))\n",
    "n=1\n",
    "for continuous_feature in continuous_features:\n",
    "    ax = plt.subplot(12,3,n)\n",
    "    sns.distplot(df[continuous_feature])\n",
    "    plt.xlabel(continuous_feature)\n",
    "    n+=1\n",
    "\n",
    "plt.show()"
   ]
  },
  {
   "cell_type": "markdown",
   "id": "b70e9231-a972-4544-aaed-a7bacc00c248",
   "metadata": {},
   "source": [
    "#### Observations:\n",
    "1) It seems that age, day are distributed properly.\n",
    "2) balance, duration, pdays, campaign, and previous are heavily skewed towards left and seems to be have an outliers."
   ]
  },
  {
   "cell_type": "markdown",
   "id": "4352fb36-b316-421c-b179-35be253ac235",
   "metadata": {},
   "source": [
    "### 12) Relationship between continuous numerical feature and target variable"
   ]
  },
  {
   "cell_type": "code",
   "execution_count": 21,
   "id": "84adcbbf-032c-4e8d-9a8d-a9a41a00e67b",
   "metadata": {},
   "outputs": [
    {
     "data": {
      "image/png": "[encoded data removed]",
      "text/plain": [
       "<Figure size 2000x6000 with 7 Axes>"
      ]
     },
     "metadata": {},
     "output_type": "display_data"
    }
   ],
   "source": [
    "# boxplot to show target distribution with respect numerical features\n",
    "plt.figure(figsize=(20,60))\n",
    "n=1\n",
    "for feature in continuous_features:\n",
    "    ax = plt.subplot(12,3,n)\n",
    "    sns.boxplot(x=\"subscribed\",y=df[feature],data=df)\n",
    "    plt.xlabel(feature)\n",
    "    n+=1\n",
    "\n",
    "plt.show()"
   ]
  },
  {
   "cell_type": "markdown",
   "id": "c375d1f3-cd54-41f9-9cb5-0320dbbaafc1",
   "metadata": {},
   "source": [
    "##### clients shows interest on deposit who had discussion for longer duration"
   ]
  },
  {
   "cell_type": "markdown",
   "id": "9f181c33-dc00-40c2-893a-0901ded9808f",
   "metadata": {},
   "source": [
    "### 13) Find Outliers  in numerical features\n",
    "- form the above boxplot we can conclude that age, balance, duration, campaign, pdays and previous have some outliers"
   ]
  },
  {
   "cell_type": "markdown",
   "id": "46f2d000-696f-4318-bc36-6a29b9431ab9",
   "metadata": {},
   "source": [
    "### 14) Explore the correlation between numerical features"
   ]
  },
  {
   "cell_type": "code",
   "execution_count": 22,
   "id": "2663c32c-a797-4fb2-a5fc-fcfd42784733",
   "metadata": {},
   "outputs": [
    {
     "data": {
      "text/plain": [
       "<Axes: >"
      ]
     },
     "execution_count": 22,
     "metadata": {},
     "output_type": "execute_result"
    },
    {
     "data": {
      "image/png": "[encoded data removed]",
      "text/plain": [
       "<Figure size 1500x700 with 2 Axes>"
      ]
     },
     "metadata": {},
     "output_type": "display_data"
    }
   ],
   "source": [
    "corr=df.corr(numeric_only=True)\n",
    "fig = plt.figure(figsize=(15,7))\n",
    "sns.heatmap(corr,annot=True)"
   ]
  },
  {
   "cell_type": "markdown",
   "id": "6003744a-68d8-4b9f-8b75-bb54aac90898",
   "metadata": {},
   "source": [
    "##### No feature seems to be  correlated with each other"
   ]
  },
  {
   "cell_type": "markdown",
   "id": "9d13803e-b212-4018-b768-097865bf6efe",
   "metadata": {},
   "source": [
    "### 15) Let's check whether the data is balanced or not based on target variabel in classifiction"
   ]
  },
  {
   "cell_type": "code",
   "execution_count": 23,
   "id": "89706716-eb0a-4585-a3fe-f0a727e34988",
   "metadata": {},
   "outputs": [
    {
     "data": {
      "image/png": "[encoded data removed]",
      "text/plain": [
       "<Figure size 640x480 with 1 Axes>"
      ]
     },
     "metadata": {},
     "output_type": "display_data"
    }
   ],
   "source": [
    "# total count based on subsscribed\n",
    "sns.countplot(x=\"subscribed\",data=df)\n",
    "plt.show()"
   ]
  },
  {
   "cell_type": "code",
   "execution_count": 24,
   "id": "adfab099-81d4-4f8e-950d-c9095b83948b",
   "metadata": {},
   "outputs": [
    {
     "data": {
      "text/plain": [
       "subscribed\n",
       "no     27932\n",
       "yes     3715\n",
       "Name: subscribed, dtype: int64"
      ]
     },
     "execution_count": 24,
     "metadata": {},
     "output_type": "execute_result"
    }
   ],
   "source": [
    "df[\"subscribed\"].groupby(df[\"subscribed\"]).count()"
   ]
  },
  {
   "cell_type": "markdown",
   "id": "a54b1651-8d25-4a8d-8840-ef0a61fcbcfb",
   "metadata": {},
   "source": [
    "Here the data is not balanced, so we will consider it during the model making"
   ]
  },
  {
   "cell_type": "markdown",
   "id": "76512504-5572-462f-ba82-0a4eb3e50b17",
   "metadata": {},
   "source": [
    "## Feature Engineering\n",
    "- Drop unwanted features\n",
    "- handle missing values\n",
    "- handle categorical features\n",
    "- handle feature scaling\n",
    "- Remove Outliers"
   ]
  },
  {
   "cell_type": "markdown",
   "id": "407abc85-9ddc-4dc3-93e5-96bebf3c980b",
   "metadata": {},
   "source": [
    "As per Exploratory Data Analysis\n",
    "- no missing value found\n",
    "- no feature found with one value\n",
    "- default features doesnot play important role\n",
    "- it seems some outliers found in age, balance, duration, compaign, pdays, and previous"
   ]
  },
  {
   "cell_type": "code",
   "execution_count": 25,
   "id": "e1755438-18aa-4ebe-b65b-1557bdd8c640",
   "metadata": {},
   "outputs": [],
   "source": [
    "df2 = df.copy()"
   ]
  },
  {
   "cell_type": "code",
   "execution_count": 26,
   "id": "940a5b0c-a637-4a83-9592-f88370dd70ce",
   "metadata": {},
   "outputs": [
    {
     "data": {
      "text/html": [
       "<div>\n",
       "<style scoped>\n",
       "    .dataframe tbody tr th:only-of-type {\n",
       "        vertical-align: middle;\n",
       "    }\n",
       "\n",
       "    .dataframe tbody tr th {\n",
       "        vertical-align: top;\n",
       "    }\n",
       "\n",
       "    .dataframe thead th {\n",
       "        text-align: right;\n",
       "    }\n",
       "</style>\n",
       "<table border=\"1\" class=\"dataframe\">\n",
       "  <thead>\n",
       "    <tr style=\"text-align: right;\">\n",
       "      <th></th>\n",
       "      <th>age</th>\n",
       "      <th>job</th>\n",
       "      <th>marital</th>\n",
       "      <th>education</th>\n",
       "      <th>default</th>\n",
       "      <th>balance</th>\n",
       "      <th>housing</th>\n",
       "      <th>loan</th>\n",
       "      <th>contact</th>\n",
       "      <th>day</th>\n",
       "      <th>month</th>\n",
       "      <th>duration</th>\n",
       "      <th>campaign</th>\n",
       "      <th>pdays</th>\n",
       "      <th>previous</th>\n",
       "      <th>poutcome</th>\n",
       "      <th>subscribed</th>\n",
       "    </tr>\n",
       "  </thead>\n",
       "  <tbody>\n",
       "    <tr>\n",
       "      <th>0</th>\n",
       "      <td>56</td>\n",
       "      <td>admin.</td>\n",
       "      <td>married</td>\n",
       "      <td>unknown</td>\n",
       "      <td>no</td>\n",
       "      <td>1933</td>\n",
       "      <td>no</td>\n",
       "      <td>no</td>\n",
       "      <td>telephone</td>\n",
       "      <td>19</td>\n",
       "      <td>nov</td>\n",
       "      <td>44</td>\n",
       "      <td>2</td>\n",
       "      <td>-1</td>\n",
       "      <td>0</td>\n",
       "      <td>unknown</td>\n",
       "      <td>no</td>\n",
       "    </tr>\n",
       "    <tr>\n",
       "      <th>1</th>\n",
       "      <td>31</td>\n",
       "      <td>unknown</td>\n",
       "      <td>married</td>\n",
       "      <td>secondary</td>\n",
       "      <td>no</td>\n",
       "      <td>3</td>\n",
       "      <td>no</td>\n",
       "      <td>no</td>\n",
       "      <td>cellular</td>\n",
       "      <td>20</td>\n",
       "      <td>jul</td>\n",
       "      <td>91</td>\n",
       "      <td>2</td>\n",
       "      <td>-1</td>\n",
       "      <td>0</td>\n",
       "      <td>unknown</td>\n",
       "      <td>no</td>\n",
       "    </tr>\n",
       "    <tr>\n",
       "      <th>2</th>\n",
       "      <td>27</td>\n",
       "      <td>services</td>\n",
       "      <td>married</td>\n",
       "      <td>secondary</td>\n",
       "      <td>no</td>\n",
       "      <td>891</td>\n",
       "      <td>yes</td>\n",
       "      <td>no</td>\n",
       "      <td>cellular</td>\n",
       "      <td>18</td>\n",
       "      <td>jul</td>\n",
       "      <td>240</td>\n",
       "      <td>1</td>\n",
       "      <td>-1</td>\n",
       "      <td>0</td>\n",
       "      <td>unknown</td>\n",
       "      <td>no</td>\n",
       "    </tr>\n",
       "    <tr>\n",
       "      <th>3</th>\n",
       "      <td>57</td>\n",
       "      <td>management</td>\n",
       "      <td>divorced</td>\n",
       "      <td>tertiary</td>\n",
       "      <td>no</td>\n",
       "      <td>3287</td>\n",
       "      <td>no</td>\n",
       "      <td>no</td>\n",
       "      <td>cellular</td>\n",
       "      <td>22</td>\n",
       "      <td>jun</td>\n",
       "      <td>867</td>\n",
       "      <td>1</td>\n",
       "      <td>84</td>\n",
       "      <td>3</td>\n",
       "      <td>success</td>\n",
       "      <td>yes</td>\n",
       "    </tr>\n",
       "    <tr>\n",
       "      <th>4</th>\n",
       "      <td>31</td>\n",
       "      <td>technician</td>\n",
       "      <td>married</td>\n",
       "      <td>secondary</td>\n",
       "      <td>no</td>\n",
       "      <td>119</td>\n",
       "      <td>yes</td>\n",
       "      <td>no</td>\n",
       "      <td>cellular</td>\n",
       "      <td>4</td>\n",
       "      <td>feb</td>\n",
       "      <td>380</td>\n",
       "      <td>1</td>\n",
       "      <td>-1</td>\n",
       "      <td>0</td>\n",
       "      <td>unknown</td>\n",
       "      <td>no</td>\n",
       "    </tr>\n",
       "  </tbody>\n",
       "</table>\n",
       "</div>"
      ],
      "text/plain": [
       "   age         job   marital  education default  balance housing loan  \\\n",
       "0   56      admin.   married    unknown      no     1933      no   no   \n",
       "1   31     unknown   married  secondary      no        3      no   no   \n",
       "2   27    services   married  secondary      no      891     yes   no   \n",
       "3   57  management  divorced   tertiary      no     3287      no   no   \n",
       "4   31  technician   married  secondary      no      119     yes   no   \n",
       "\n",
       "     contact  day month  duration  campaign  pdays  previous poutcome  \\\n",
       "0  telephone   19   nov        44         2     -1         0  unknown   \n",
       "1   cellular   20   jul        91         2     -1         0  unknown   \n",
       "2   cellular   18   jul       240         1     -1         0  unknown   \n",
       "3   cellular   22   jun       867         1     84         3  success   \n",
       "4   cellular    4   feb       380         1     -1         0  unknown   \n",
       "\n",
       "  subscribed  \n",
       "0         no  \n",
       "1         no  \n",
       "2         no  \n",
       "3        yes  \n",
       "4         no  "
      ]
     },
     "execution_count": 26,
     "metadata": {},
     "output_type": "execute_result"
    }
   ],
   "source": [
    "df2.head()"
   ]
  },
  {
   "cell_type": "code",
   "execution_count": 27,
   "id": "f6c51272-2fcc-4533-bf9f-23eb630616c1",
   "metadata": {},
   "outputs": [
    {
     "data": {
      "text/plain": [
       "subscribed  default\n",
       "no          no         27388\n",
       "            yes          544\n",
       "yes         no          3674\n",
       "            yes           41\n",
       "dtype: int64"
      ]
     },
     "execution_count": 27,
     "metadata": {},
     "output_type": "execute_result"
    }
   ],
   "source": [
    "# default feature does not play important role\n",
    "df2.groupby([\"subscribed\",\"default\"]).size()"
   ]
  },
  {
   "cell_type": "code",
   "execution_count": 28,
   "id": "ee707c0a-e2da-4eb7-b575-d617a979fcd5",
   "metadata": {},
   "outputs": [],
   "source": [
    "df2.drop([\"default\"],axis=1,inplace=True)"
   ]
  },
  {
   "cell_type": "code",
   "execution_count": 29,
   "id": "a1f463e3-17bf-47b6-9176-9b04305067a2",
   "metadata": {},
   "outputs": [
    {
     "data": {
      "text/plain": [
       "subscribed  pdays\n",
       "no          -1       23553\n",
       "             1           6\n",
       "             2          24\n",
       "             4           1\n",
       "             5           7\n",
       "                     ...  \n",
       "yes          792         1\n",
       "             804         1\n",
       "             805         1\n",
       "             842         1\n",
       "             854         1\n",
       "Length: 804, dtype: int64"
      ]
     },
     "execution_count": 29,
     "metadata": {},
     "output_type": "execute_result"
    }
   ],
   "source": [
    "df2.groupby([\"subscribed\",\"pdays\"]).size()"
   ]
  },
  {
   "cell_type": "code",
   "execution_count": 30,
   "id": "3b55d145-778d-48f7-8b86-1eaab836fadd",
   "metadata": {},
   "outputs": [],
   "source": [
    "# drop pdays as it has -1 value for more than 50% +\n",
    "df2.drop([\"pdays\"],axis=1,inplace=True)"
   ]
  },
  {
   "cell_type": "code",
   "execution_count": 31,
   "id": "28f28f43-8624-4fba-93d7-ee5202428474",
   "metadata": {},
   "outputs": [
    {
     "data": {
      "text/plain": [
       "age\n",
       "18     8\n",
       "19    22\n",
       "20    39\n",
       "21    48\n",
       "22    86\n",
       "      ..\n",
       "90     1\n",
       "92     1\n",
       "93     1\n",
       "94     1\n",
       "95     1\n",
       "Name: age, Length: 76, dtype: int64"
      ]
     },
     "execution_count": 31,
     "metadata": {},
     "output_type": "execute_result"
    }
   ],
   "source": [
    "# Remove outliers in the age column\n",
    "df2.groupby(\"age\",sort=True)[\"age\"].count()\n",
    "# these can be ignored and vlaues lies in between 18 to 95"
   ]
  },
  {
   "cell_type": "code",
   "execution_count": 32,
   "id": "6b4ce935-9b1f-4e98-8cfa-8780324d20cf",
   "metadata": {},
   "outputs": [
    {
     "data": {
      "text/plain": [
       "subscribed  balance\n",
       "no          -8019      1\n",
       "            -6847      1\n",
       "            -4057      1\n",
       "            -3372      1\n",
       "            -2712      1\n",
       "                      ..\n",
       "yes          32685     1\n",
       "             36252     1\n",
       "             45248     1\n",
       "             52587     2\n",
       "             81204     1\n",
       "Name: balance, Length: 7969, dtype: int64"
      ]
     },
     "execution_count": 32,
     "metadata": {},
     "output_type": "execute_result"
    }
   ],
   "source": [
    "# remove outliers in the balance column\n",
    "df2.groupby([\"subscribed\",\"balance\"],sort=True)[\"balance\"].count()"
   ]
  },
  {
   "cell_type": "markdown",
   "id": "60cfe648-f62f-4b6c-8060-35831ed18443",
   "metadata": {},
   "source": [
    "##### these outliers should not be removed as balance goes high, client is more likely to be subscribed"
   ]
  },
  {
   "cell_type": "code",
   "execution_count": 33,
   "id": "82f01594-b229-4019-9be8-3577aba71a5b",
   "metadata": {},
   "outputs": [
    {
     "data": {
      "text/plain": [
       "subscribed  duration\n",
       "no          0            1\n",
       "            2            3\n",
       "            3            3\n",
       "            4           11\n",
       "            5           20\n",
       "                        ..\n",
       "yes         2775         1\n",
       "            3076         1\n",
       "            3102         1\n",
       "            3183         1\n",
       "            3881         1\n",
       "Name: duration, Length: 2381, dtype: int64"
      ]
     },
     "execution_count": 33,
     "metadata": {},
     "output_type": "execute_result"
    }
   ],
   "source": [
    "# remove outliers in the duration column\n",
    "df2.groupby([\"subscribed\",\"duration\"],sort=True)[\"duration\"].count()"
   ]
  },
  {
   "cell_type": "markdown",
   "id": "ab9f581b-7b78-4d24-a0e0-30457b64cbaa",
   "metadata": {},
   "source": [
    "##### these outliers should not be removed as duration goes high, client is more likely to be subscribed"
   ]
  },
  {
   "cell_type": "code",
   "execution_count": 34,
   "id": "874d1e11-9536-4d65-8d01-849310945598",
   "metadata": {},
   "outputs": [
    {
     "data": {
      "text/plain": [
       "subscribed  campaign\n",
       "no          1           10486\n",
       "            2            7792\n",
       "            3            3439\n",
       "            4            2213\n",
       "            5            1147\n",
       "                        ...  \n",
       "yes         16              2\n",
       "            17              6\n",
       "            20              1\n",
       "            24              1\n",
       "            32              1\n",
       "Name: campaign, Length: 65, dtype: int64"
      ]
     },
     "execution_count": 34,
     "metadata": {},
     "output_type": "execute_result"
    }
   ],
   "source": [
    "# remove outliers in the campaign column\n",
    "df2.groupby([\"subscribed\",\"campaign\"],sort=True)[\"campaign\"].count()"
   ]
  },
  {
   "cell_type": "code",
   "execution_count": 35,
   "id": "e9da764f-d51a-4a92-9a46-abe97d090cf4",
   "metadata": {},
   "outputs": [],
   "source": [
    "df3 = df2[df2[\"campaign\"]<33]"
   ]
  },
  {
   "cell_type": "code",
   "execution_count": 36,
   "id": "87e46870-54d4-4185-8d2e-67a27fc9235e",
   "metadata": {},
   "outputs": [
    {
     "data": {
      "text/plain": [
       "subscribed  campaign\n",
       "no          1           10486\n",
       "            2            7792\n",
       "            3            3439\n",
       "            4            2213\n",
       "            5            1147\n",
       "            6             845\n",
       "            7             484\n",
       "            8             335\n",
       "            9             221\n",
       "            10            173\n",
       "            11            115\n",
       "            12            100\n",
       "            13             88\n",
       "            14             65\n",
       "            15             58\n",
       "            16             52\n",
       "            17             46\n",
       "            18             37\n",
       "            19             30\n",
       "            20             36\n",
       "            21             19\n",
       "            22             18\n",
       "            23             13\n",
       "            24             12\n",
       "            25             17\n",
       "            26              9\n",
       "            27              8\n",
       "            28             14\n",
       "            29             12\n",
       "            30              6\n",
       "            31              9\n",
       "            32              5\n",
       "yes         1            1776\n",
       "            2            1006\n",
       "            3             419\n",
       "            4             229\n",
       "            5              98\n",
       "            6              71\n",
       "            7              34\n",
       "            8              21\n",
       "            9              15\n",
       "            10             11\n",
       "            11             11\n",
       "            12              2\n",
       "            13              5\n",
       "            14              3\n",
       "            15              3\n",
       "            16              2\n",
       "            17              6\n",
       "            20              1\n",
       "            24              1\n",
       "            32              1\n",
       "Name: campaign, dtype: int64"
      ]
     },
     "execution_count": 36,
     "metadata": {},
     "output_type": "execute_result"
    }
   ],
   "source": [
    "df3.groupby([\"subscribed\",\"campaign\"],sort=True)[\"campaign\"].count()"
   ]
  },
  {
   "cell_type": "code",
   "execution_count": 37,
   "id": "d0f09279-5506-4c49-93d8-51cacdd1e9b2",
   "metadata": {},
   "outputs": [
    {
     "data": {
      "text/plain": [
       "subscribed  previous\n",
       "no          0           23525\n",
       "            1            1499\n",
       "            2            1154\n",
       "            3             580\n",
       "            4             382\n",
       "            5             227\n",
       "            6             128\n",
       "            7             102\n",
       "            8              56\n",
       "            9              46\n",
       "            10             33\n",
       "            11             38\n",
       "            12             25\n",
       "            13             22\n",
       "            14              9\n",
       "            15             15\n",
       "            16              8\n",
       "            17              8\n",
       "            18              5\n",
       "            19              7\n",
       "            20              5\n",
       "            21              3\n",
       "            22              3\n",
       "            23              5\n",
       "            24              2\n",
       "            25              4\n",
       "            26              1\n",
       "            27              4\n",
       "            28              1\n",
       "            29              1\n",
       "            32              1\n",
       "            35              1\n",
       "            37              1\n",
       "            38              1\n",
       "            41              1\n",
       "            275             1\n",
       "yes         0            2371\n",
       "            1             422\n",
       "            2             327\n",
       "            3             200\n",
       "            4             119\n",
       "            5              84\n",
       "            6              60\n",
       "            7              36\n",
       "            8              25\n",
       "            9              18\n",
       "            10             16\n",
       "            11              8\n",
       "            12              5\n",
       "            13              8\n",
       "            14              5\n",
       "            17              3\n",
       "            19              1\n",
       "            21              1\n",
       "            22              1\n",
       "            23              1\n",
       "            26              1\n",
       "            29              1\n",
       "            30              1\n",
       "            58              1\n",
       "Name: previous, dtype: int64"
      ]
     },
     "execution_count": 37,
     "metadata": {},
     "output_type": "execute_result"
    }
   ],
   "source": [
    "# remove outliers in the previous column\n",
    "df3.groupby([\"subscribed\",\"previous\"],sort=True)[\"previous\"].count()"
   ]
  },
  {
   "cell_type": "code",
   "execution_count": 38,
   "id": "ba0d02d4-2bdc-4b52-9ca4-ebeeb036ebdc",
   "metadata": {},
   "outputs": [],
   "source": [
    "df4 = df3[df3[\"previous\"]<42]"
   ]
  },
  {
   "cell_type": "code",
   "execution_count": 40,
   "id": "ad01d863-876c-46d3-b38a-c2d9dbf20ca8",
   "metadata": {},
   "outputs": [
    {
     "data": {
      "text/plain": [
       "(31617, 15)"
      ]
     },
     "execution_count": 40,
     "metadata": {},
     "output_type": "execute_result"
    }
   ],
   "source": [
    "df4.shape"
   ]
  },
  {
   "cell_type": "code",
   "execution_count": 41,
   "id": "da160bc9-95eb-40ab-9ee9-3eb51ee9cef2",
   "metadata": {},
   "outputs": [
    {
     "data": {
      "text/html": [
       "<div>\n",
       "<style scoped>\n",
       "    .dataframe tbody tr th:only-of-type {\n",
       "        vertical-align: middle;\n",
       "    }\n",
       "\n",
       "    .dataframe tbody tr th {\n",
       "        vertical-align: top;\n",
       "    }\n",
       "\n",
       "    .dataframe thead th {\n",
       "        text-align: right;\n",
       "    }\n",
       "</style>\n",
       "<table border=\"1\" class=\"dataframe\">\n",
       "  <thead>\n",
       "    <tr style=\"text-align: right;\">\n",
       "      <th></th>\n",
       "      <th>age</th>\n",
       "      <th>job</th>\n",
       "      <th>marital</th>\n",
       "      <th>education</th>\n",
       "      <th>balance</th>\n",
       "      <th>housing</th>\n",
       "      <th>loan</th>\n",
       "      <th>contact</th>\n",
       "      <th>day</th>\n",
       "      <th>month</th>\n",
       "      <th>duration</th>\n",
       "      <th>campaign</th>\n",
       "      <th>previous</th>\n",
       "      <th>poutcome</th>\n",
       "      <th>subscribed</th>\n",
       "    </tr>\n",
       "  </thead>\n",
       "  <tbody>\n",
       "    <tr>\n",
       "      <th>31632</th>\n",
       "      <td>33</td>\n",
       "      <td>1.0</td>\n",
       "      <td>1.0</td>\n",
       "      <td>1.0</td>\n",
       "      <td>0</td>\n",
       "      <td>1.0</td>\n",
       "      <td>0.0</td>\n",
       "      <td>2.0</td>\n",
       "      <td>21</td>\n",
       "      <td>8.0</td>\n",
       "      <td>521</td>\n",
       "      <td>3</td>\n",
       "      <td>0</td>\n",
       "      <td>3.0</td>\n",
       "      <td>1.0</td>\n",
       "    </tr>\n",
       "    <tr>\n",
       "      <th>31633</th>\n",
       "      <td>50</td>\n",
       "      <td>9.0</td>\n",
       "      <td>1.0</td>\n",
       "      <td>2.0</td>\n",
       "      <td>3117</td>\n",
       "      <td>0.0</td>\n",
       "      <td>0.0</td>\n",
       "      <td>2.0</td>\n",
       "      <td>9</td>\n",
       "      <td>6.0</td>\n",
       "      <td>174</td>\n",
       "      <td>1</td>\n",
       "      <td>0</td>\n",
       "      <td>3.0</td>\n",
       "      <td>0.0</td>\n",
       "    </tr>\n",
       "    <tr>\n",
       "      <th>31634</th>\n",
       "      <td>30</td>\n",
       "      <td>9.0</td>\n",
       "      <td>2.0</td>\n",
       "      <td>2.0</td>\n",
       "      <td>432</td>\n",
       "      <td>1.0</td>\n",
       "      <td>1.0</td>\n",
       "      <td>2.0</td>\n",
       "      <td>3</td>\n",
       "      <td>6.0</td>\n",
       "      <td>180</td>\n",
       "      <td>3</td>\n",
       "      <td>0</td>\n",
       "      <td>3.0</td>\n",
       "      <td>0.0</td>\n",
       "    </tr>\n",
       "    <tr>\n",
       "      <th>31635</th>\n",
       "      <td>35</td>\n",
       "      <td>4.0</td>\n",
       "      <td>1.0</td>\n",
       "      <td>2.0</td>\n",
       "      <td>4</td>\n",
       "      <td>0.0</td>\n",
       "      <td>0.0</td>\n",
       "      <td>0.0</td>\n",
       "      <td>1</td>\n",
       "      <td>11.0</td>\n",
       "      <td>157</td>\n",
       "      <td>2</td>\n",
       "      <td>0</td>\n",
       "      <td>3.0</td>\n",
       "      <td>0.0</td>\n",
       "    </tr>\n",
       "    <tr>\n",
       "      <th>31636</th>\n",
       "      <td>48</td>\n",
       "      <td>3.0</td>\n",
       "      <td>1.0</td>\n",
       "      <td>0.0</td>\n",
       "      <td>469</td>\n",
       "      <td>0.0</td>\n",
       "      <td>0.0</td>\n",
       "      <td>0.0</td>\n",
       "      <td>14</td>\n",
       "      <td>1.0</td>\n",
       "      <td>103</td>\n",
       "      <td>2</td>\n",
       "      <td>0</td>\n",
       "      <td>3.0</td>\n",
       "      <td>0.0</td>\n",
       "    </tr>\n",
       "    <tr>\n",
       "      <th>31637</th>\n",
       "      <td>44</td>\n",
       "      <td>9.0</td>\n",
       "      <td>1.0</td>\n",
       "      <td>1.0</td>\n",
       "      <td>5163</td>\n",
       "      <td>0.0</td>\n",
       "      <td>0.0</td>\n",
       "      <td>0.0</td>\n",
       "      <td>11</td>\n",
       "      <td>1.0</td>\n",
       "      <td>48</td>\n",
       "      <td>2</td>\n",
       "      <td>0</td>\n",
       "      <td>3.0</td>\n",
       "      <td>0.0</td>\n",
       "    </tr>\n",
       "    <tr>\n",
       "      <th>31638</th>\n",
       "      <td>29</td>\n",
       "      <td>1.0</td>\n",
       "      <td>1.0</td>\n",
       "      <td>1.0</td>\n",
       "      <td>721</td>\n",
       "      <td>1.0</td>\n",
       "      <td>0.0</td>\n",
       "      <td>0.0</td>\n",
       "      <td>23</td>\n",
       "      <td>5.0</td>\n",
       "      <td>644</td>\n",
       "      <td>1</td>\n",
       "      <td>0</td>\n",
       "      <td>3.0</td>\n",
       "      <td>0.0</td>\n",
       "    </tr>\n",
       "    <tr>\n",
       "      <th>31639</th>\n",
       "      <td>38</td>\n",
       "      <td>7.0</td>\n",
       "      <td>2.0</td>\n",
       "      <td>1.0</td>\n",
       "      <td>570</td>\n",
       "      <td>1.0</td>\n",
       "      <td>0.0</td>\n",
       "      <td>2.0</td>\n",
       "      <td>5</td>\n",
       "      <td>8.0</td>\n",
       "      <td>75</td>\n",
       "      <td>2</td>\n",
       "      <td>0</td>\n",
       "      <td>3.0</td>\n",
       "      <td>0.0</td>\n",
       "    </tr>\n",
       "    <tr>\n",
       "      <th>31640</th>\n",
       "      <td>43</td>\n",
       "      <td>4.0</td>\n",
       "      <td>2.0</td>\n",
       "      <td>1.0</td>\n",
       "      <td>2968</td>\n",
       "      <td>0.0</td>\n",
       "      <td>0.0</td>\n",
       "      <td>2.0</td>\n",
       "      <td>20</td>\n",
       "      <td>6.0</td>\n",
       "      <td>30</td>\n",
       "      <td>4</td>\n",
       "      <td>0</td>\n",
       "      <td>3.0</td>\n",
       "      <td>0.0</td>\n",
       "    </tr>\n",
       "    <tr>\n",
       "      <th>31641</th>\n",
       "      <td>37</td>\n",
       "      <td>9.0</td>\n",
       "      <td>2.0</td>\n",
       "      <td>2.0</td>\n",
       "      <td>1309</td>\n",
       "      <td>0.0</td>\n",
       "      <td>0.0</td>\n",
       "      <td>2.0</td>\n",
       "      <td>6</td>\n",
       "      <td>6.0</td>\n",
       "      <td>442</td>\n",
       "      <td>2</td>\n",
       "      <td>0</td>\n",
       "      <td>3.0</td>\n",
       "      <td>0.0</td>\n",
       "    </tr>\n",
       "    <tr>\n",
       "      <th>31642</th>\n",
       "      <td>29</td>\n",
       "      <td>4.0</td>\n",
       "      <td>2.0</td>\n",
       "      <td>2.0</td>\n",
       "      <td>0</td>\n",
       "      <td>1.0</td>\n",
       "      <td>0.0</td>\n",
       "      <td>0.0</td>\n",
       "      <td>12</td>\n",
       "      <td>8.0</td>\n",
       "      <td>116</td>\n",
       "      <td>2</td>\n",
       "      <td>0</td>\n",
       "      <td>3.0</td>\n",
       "      <td>0.0</td>\n",
       "    </tr>\n",
       "    <tr>\n",
       "      <th>31643</th>\n",
       "      <td>53</td>\n",
       "      <td>4.0</td>\n",
       "      <td>0.0</td>\n",
       "      <td>2.0</td>\n",
       "      <td>380</td>\n",
       "      <td>0.0</td>\n",
       "      <td>1.0</td>\n",
       "      <td>0.0</td>\n",
       "      <td>5</td>\n",
       "      <td>6.0</td>\n",
       "      <td>438</td>\n",
       "      <td>2</td>\n",
       "      <td>0</td>\n",
       "      <td>3.0</td>\n",
       "      <td>1.0</td>\n",
       "    </tr>\n",
       "    <tr>\n",
       "      <th>31644</th>\n",
       "      <td>32</td>\n",
       "      <td>4.0</td>\n",
       "      <td>2.0</td>\n",
       "      <td>2.0</td>\n",
       "      <td>312</td>\n",
       "      <td>0.0</td>\n",
       "      <td>0.0</td>\n",
       "      <td>0.0</td>\n",
       "      <td>7</td>\n",
       "      <td>1.0</td>\n",
       "      <td>37</td>\n",
       "      <td>3</td>\n",
       "      <td>0</td>\n",
       "      <td>3.0</td>\n",
       "      <td>0.0</td>\n",
       "    </tr>\n",
       "    <tr>\n",
       "      <th>31645</th>\n",
       "      <td>57</td>\n",
       "      <td>9.0</td>\n",
       "      <td>1.0</td>\n",
       "      <td>1.0</td>\n",
       "      <td>225</td>\n",
       "      <td>1.0</td>\n",
       "      <td>0.0</td>\n",
       "      <td>1.0</td>\n",
       "      <td>15</td>\n",
       "      <td>8.0</td>\n",
       "      <td>22</td>\n",
       "      <td>7</td>\n",
       "      <td>12</td>\n",
       "      <td>0.0</td>\n",
       "      <td>0.0</td>\n",
       "    </tr>\n",
       "    <tr>\n",
       "      <th>31646</th>\n",
       "      <td>55</td>\n",
       "      <td>4.0</td>\n",
       "      <td>0.0</td>\n",
       "      <td>1.0</td>\n",
       "      <td>204</td>\n",
       "      <td>1.0</td>\n",
       "      <td>0.0</td>\n",
       "      <td>0.0</td>\n",
       "      <td>11</td>\n",
       "      <td>5.0</td>\n",
       "      <td>1973</td>\n",
       "      <td>2</td>\n",
       "      <td>0</td>\n",
       "      <td>3.0</td>\n",
       "      <td>1.0</td>\n",
       "    </tr>\n",
       "  </tbody>\n",
       "</table>\n",
       "</div>"
      ],
      "text/plain": [
       "       age  job  marital  education  balance  housing  loan  contact  day  \\\n",
       "31632   33  1.0      1.0        1.0        0      1.0   0.0      2.0   21   \n",
       "31633   50  9.0      1.0        2.0     3117      0.0   0.0      2.0    9   \n",
       "31634   30  9.0      2.0        2.0      432      1.0   1.0      2.0    3   \n",
       "31635   35  4.0      1.0        2.0        4      0.0   0.0      0.0    1   \n",
       "31636   48  3.0      1.0        0.0      469      0.0   0.0      0.0   14   \n",
       "31637   44  9.0      1.0        1.0     5163      0.0   0.0      0.0   11   \n",
       "31638   29  1.0      1.0        1.0      721      1.0   0.0      0.0   23   \n",
       "31639   38  7.0      2.0        1.0      570      1.0   0.0      2.0    5   \n",
       "31640   43  4.0      2.0        1.0     2968      0.0   0.0      2.0   20   \n",
       "31641   37  9.0      2.0        2.0     1309      0.0   0.0      2.0    6   \n",
       "31642   29  4.0      2.0        2.0        0      1.0   0.0      0.0   12   \n",
       "31643   53  4.0      0.0        2.0      380      0.0   1.0      0.0    5   \n",
       "31644   32  4.0      2.0        2.0      312      0.0   0.0      0.0    7   \n",
       "31645   57  9.0      1.0        1.0      225      1.0   0.0      1.0   15   \n",
       "31646   55  4.0      0.0        1.0      204      1.0   0.0      0.0   11   \n",
       "\n",
       "       month  duration  campaign  previous  poutcome  subscribed  \n",
       "31632    8.0       521         3         0       3.0         1.0  \n",
       "31633    6.0       174         1         0       3.0         0.0  \n",
       "31634    6.0       180         3         0       3.0         0.0  \n",
       "31635   11.0       157         2         0       3.0         0.0  \n",
       "31636    1.0       103         2         0       3.0         0.0  \n",
       "31637    1.0        48         2         0       3.0         0.0  \n",
       "31638    5.0       644         1         0       3.0         0.0  \n",
       "31639    8.0        75         2         0       3.0         0.0  \n",
       "31640    6.0        30         4         0       3.0         0.0  \n",
       "31641    6.0       442         2         0       3.0         0.0  \n",
       "31642    8.0       116         2         0       3.0         0.0  \n",
       "31643    6.0       438         2         0       3.0         1.0  \n",
       "31644    1.0        37         3         0       3.0         0.0  \n",
       "31645    8.0        22         7        12       0.0         0.0  \n",
       "31646    5.0      1973         2         0       3.0         1.0  "
      ]
     },
     "execution_count": 41,
     "metadata": {},
     "output_type": "execute_result"
    }
   ],
   "source": [
    "# Encoding categorical columns using OrdinalEncoder\n",
    "from sklearn.preprocessing import OrdinalEncoder\n",
    "OE = OrdinalEncoder()\n",
    "for i in df4.columns:\n",
    "    if df4[i].dtypes==\"object\":\n",
    "        df4[i] = OE.fit_transform(df4[i].values.reshape(-1,1))\n",
    "df4.tail(15)"
   ]
  },
  {
   "cell_type": "markdown",
   "id": "b9a418b3-f6a7-4051-87f5-a31331eb01a9",
   "metadata": {},
   "source": [
    "## spliting the traing set and test set"
   ]
  },
  {
   "cell_type": "code",
   "execution_count": 44,
   "id": "f80661f9-2e82-4261-8c2c-7f591ca7a582",
   "metadata": {},
   "outputs": [],
   "source": [
    "x = df4.drop([\"subscribed\"],axis=1)\n",
    "y = df4[\"subscribed\"]"
   ]
  },
  {
   "cell_type": "markdown",
   "id": "b68b353b-745b-4492-9fe0-6bfff5200828",
   "metadata": {},
   "source": [
    "## Now lets balance the data (Oversampling)"
   ]
  },
  {
   "cell_type": "code",
   "execution_count": 47,
   "id": "ac43c758-bdcd-4ce2-ad63-0aa7bed0dfc2",
   "metadata": {},
   "outputs": [],
   "source": [
    "from imblearn.over_sampling import SMOTE\n",
    "SM = SMOTE()\n",
    "x1,y1=SM.fit_resample(x,y)"
   ]
  },
  {
   "cell_type": "code",
   "execution_count": 48,
   "id": "4d0487d7-93b7-4d11-a3ea-09a3996b4db8",
   "metadata": {},
   "outputs": [
    {
     "data": {
      "text/plain": [
       "subscribed\n",
       "0.0    27903\n",
       "1.0     3714\n",
       "Name: count, dtype: int64"
      ]
     },
     "execution_count": 48,
     "metadata": {},
     "output_type": "execute_result"
    }
   ],
   "source": [
    "# Checking value count of target column\n",
    "y.value_counts()"
   ]
  },
  {
   "cell_type": "code",
   "execution_count": 49,
   "id": "8807b43c-da6b-4d5a-93f6-bf8472dddc31",
   "metadata": {},
   "outputs": [
    {
     "data": {
      "text/plain": [
       "subscribed\n",
       "0.0    27903\n",
       "1.0    27903\n",
       "Name: count, dtype: int64"
      ]
     },
     "execution_count": 49,
     "metadata": {},
     "output_type": "execute_result"
    }
   ],
   "source": [
    "y1.value_counts()"
   ]
  },
  {
   "cell_type": "code",
   "execution_count": null,
   "id": "018b8752-a544-4e61-beac-dd7ab64d13a5",
   "metadata": {},
   "outputs": [],
   "source": []
  },
  {
   "cell_type": "markdown",
   "id": "62de3f36-7918-432d-a98c-e26a0e86921b",
   "metadata": {},
   "source": [
    "## Model selection"
   ]
  },
  {
   "cell_type": "markdown",
   "id": "8e5a7aa7-8802-48ae-9933-1a266179da44",
   "metadata": {},
   "source": [
    "### Finding the best random State"
   ]
  },
  {
   "cell_type": "code",
   "execution_count": 50,
   "id": "004b5973-8f80-426a-a26f-4cc9381de70a",
   "metadata": {},
   "outputs": [
    {
     "name": "stdout",
     "output_type": "stream",
     "text": [
      "Best accuracy is  0.9511408433878867 at random_state  20\n"
     ]
    }
   ],
   "source": [
    "from sklearn.model_selection import train_test_split\n",
    "from sklearn.ensemble import RandomForestClassifier\n",
    "from sklearn.metrics import accuracy_score\n",
    "maxAccu = 0\n",
    "maxRS = 0\n",
    "for i in range(1,200):\n",
    "    x_train,x_test,y_train,y_test = train_test_split(x1,y1,test_size=0.30,random_state = i)\n",
    "    RFR = RandomForestClassifier()\n",
    "    RFR.fit(x_train,y_train)\n",
    "    pred = RFR.predict(x_test)\n",
    "    acc = accuracy_score(y_test,pred)\n",
    "    if acc>maxAccu:\n",
    "        maxAccu = acc\n",
    "        maxRS = i\n",
    "print(\"Best accuracy is \",maxAccu,\"at random_state \",maxRS)"
   ]
  },
  {
   "cell_type": "markdown",
   "id": "1362c6b0-3f4e-4606-9ef8-46588f078ede",
   "metadata": {},
   "source": [
    "## creating train test split"
   ]
  },
  {
   "cell_type": "code",
   "execution_count": 55,
   "id": "01b3399a-142a-49d6-930e-5ba53a6bda24",
   "metadata": {},
   "outputs": [],
   "source": [
    " x_train,x_test,y_train,y_test = train_test_split(x1,y1,test_size = 0.30,random_state=maxRS)"
   ]
  },
  {
   "cell_type": "markdown",
   "id": "11b5f42c-7a18-40a6-8884-d793bb7e7019",
   "metadata": {},
   "source": [
    "## Classification Algorithm"
   ]
  },
  {
   "cell_type": "code",
   "execution_count": 56,
   "id": "a52d9578-8024-402d-8a44-db94fb6d28ac",
   "metadata": {},
   "outputs": [],
   "source": [
    "from sklearn.ensemble import RandomForestClassifier,ExtraTreesClassifier\n",
    "from sklearn.linear_model import LogisticRegression\n",
    "from sklearn.svm import SVC\n",
    "from sklearn.ensemble import GradientBoostingClassifier,AdaBoostClassifier,BaggingClassifier\n",
    "from sklearn.metrics import classification_report,confusion_matrix,roc_curve,accuracy_score\n",
    "from sklearn.model_selection import cross_val_score"
   ]
  },
  {
   "cell_type": "markdown",
   "id": "957f9f25-26f5-4928-9798-aa975bd24534",
   "metadata": {},
   "source": [
    "### 1) RandomForestClassifier"
   ]
  },
  {
   "cell_type": "code",
   "execution_count": 61,
   "id": "e93662c9-92ce-45ff-b240-ccff9e303a0c",
   "metadata": {},
   "outputs": [
    {
     "name": "stdout",
     "output_type": "stream",
     "text": [
      "0.9505435431848047\n",
      "[[8109  316]\n",
      " [ 512 7805]]\n",
      "              precision    recall  f1-score   support\n",
      "\n",
      "         0.0       0.94      0.96      0.95      8425\n",
      "         1.0       0.96      0.94      0.95      8317\n",
      "\n",
      "    accuracy                           0.95     16742\n",
      "   macro avg       0.95      0.95      0.95     16742\n",
      "weighted avg       0.95      0.95      0.95     16742\n",
      "\n"
     ]
    }
   ],
   "source": [
    "# Checking accuracy of RandomForestClassifier\n",
    "rfc = RandomForestClassifier()\n",
    "rfc.fit(x_train,y_train)\n",
    "predrfc = rfc.predict(x_test)\n",
    "print(accuracy_score(y_test,predrfc))\n",
    "print(confusion_matrix(y_test,predrfc))\n",
    "print(classification_report(y_test,predrfc))"
   ]
  },
  {
   "cell_type": "markdown",
   "id": "f5d15ac2-e8f6-466a-9a96-d53fa1e8290b",
   "metadata": {},
   "source": [
    "### 2) Logistic Regression"
   ]
  },
  {
   "cell_type": "code",
   "execution_count": 59,
   "id": "cfc24641-aab8-40cd-9a99-7fd93e2d0d1e",
   "metadata": {},
   "outputs": [
    {
     "name": "stdout",
     "output_type": "stream",
     "text": [
      "0.7912435790228168\n",
      "[[6636 1789]\n",
      " [1706 6611]]\n",
      "              precision    recall  f1-score   support\n",
      "\n",
      "         0.0       0.80      0.79      0.79      8425\n",
      "         1.0       0.79      0.79      0.79      8317\n",
      "\n",
      "    accuracy                           0.79     16742\n",
      "   macro avg       0.79      0.79      0.79     16742\n",
      "weighted avg       0.79      0.79      0.79     16742\n",
      "\n"
     ]
    }
   ],
   "source": [
    "# Checking accuracy of Logistic Regression\n",
    "lc = LogisticRegression()\n",
    "lc.fit(x_train,y_train)\n",
    "predlc = lc.predict(x_test)\n",
    "print(accuracy_score(y_test,predlc))\n",
    "print(confusion_matrix(y_test,predlc))\n",
    "print(classification_report(y_test,predlc))"
   ]
  },
  {
   "cell_type": "markdown",
   "id": "29978fcf-aca9-40b3-b2d4-e01d44ae95be",
   "metadata": {},
   "source": [
    "### 3) Support Vector Machine Classifier\n"
   ]
  },
  {
   "cell_type": "code",
   "execution_count": 60,
   "id": "512e95d5-3f18-4e52-8fe6-d48b0f69ca02",
   "metadata": {},
   "outputs": [
    {
     "name": "stdout",
     "output_type": "stream",
     "text": [
      "0.7325886990801577\n",
      "[[6818 1607]\n",
      " [2870 5447]]\n",
      "              precision    recall  f1-score   support\n",
      "\n",
      "         0.0       0.70      0.81      0.75      8425\n",
      "         1.0       0.77      0.65      0.71      8317\n",
      "\n",
      "    accuracy                           0.73     16742\n",
      "   macro avg       0.74      0.73      0.73     16742\n",
      "weighted avg       0.74      0.73      0.73     16742\n",
      "\n"
     ]
    }
   ],
   "source": [
    "# Checking accuracy of Support Vector Machine Classifier\n",
    "svc = SVC()\n",
    "svc.fit(x_train,y_train)\n",
    "predsvc = svc.predict(x_test)\n",
    "print(accuracy_score(y_test,predsvc))\n",
    "print(confusion_matrix(y_test,predsvc))\n",
    "print(classification_report(y_test,predsvc))"
   ]
  },
  {
   "cell_type": "markdown",
   "id": "af96e7fd-3893-4679-aa70-a8e51157ba54",
   "metadata": {},
   "source": [
    "### 4) Gradient Boosting Classifier"
   ]
  },
  {
   "cell_type": "code",
   "execution_count": 63,
   "id": "54d2cb63-97f8-4247-8853-19c3a5300fee",
   "metadata": {},
   "outputs": [
    {
     "name": "stdout",
     "output_type": "stream",
     "text": [
      "0.9409270099151834\n",
      "[[8033  392]\n",
      " [ 597 7720]]\n",
      "              precision    recall  f1-score   support\n",
      "\n",
      "         0.0       0.93      0.95      0.94      8425\n",
      "         1.0       0.95      0.93      0.94      8317\n",
      "\n",
      "    accuracy                           0.94     16742\n",
      "   macro avg       0.94      0.94      0.94     16742\n",
      "weighted avg       0.94      0.94      0.94     16742\n",
      "\n"
     ]
    }
   ],
   "source": [
    "# Checking accuracy of  Gradient Boosting Classifier\n",
    "gb = GradientBoostingClassifier()\n",
    "gb.fit(x_train,y_train)\n",
    "predgb = gb.predict(x_test)\n",
    "print(accuracy_score(y_test,predgb))\n",
    "print(confusion_matrix(y_test,predgb))\n",
    "print(classification_report(y_test,predgb))"
   ]
  },
  {
   "cell_type": "markdown",
   "id": "b1d615f2-ffa1-48ad-8b22-62d73d3975d4",
   "metadata": {},
   "source": [
    "### 5)AdaBoost Classifier"
   ]
  },
  {
   "cell_type": "code",
   "execution_count": 64,
   "id": "88265a7a-dc63-453f-b6b1-08e54532f29b",
   "metadata": {},
   "outputs": [
    {
     "name": "stdout",
     "output_type": "stream",
     "text": [
      "0.9304145263409389\n",
      "[[7951  474]\n",
      " [ 691 7626]]\n",
      "              precision    recall  f1-score   support\n",
      "\n",
      "         0.0       0.92      0.94      0.93      8425\n",
      "         1.0       0.94      0.92      0.93      8317\n",
      "\n",
      "    accuracy                           0.93     16742\n",
      "   macro avg       0.93      0.93      0.93     16742\n",
      "weighted avg       0.93      0.93      0.93     16742\n",
      "\n"
     ]
    }
   ],
   "source": [
    "# Checking accuracy of AdaBoost Classifier\n",
    "ab = AdaBoostClassifier()\n",
    "ab.fit(x_train,y_train)\n",
    "predab = ab.predict(x_test)\n",
    "print(accuracy_score(y_test,predab))\n",
    "print(confusion_matrix(y_test,predab))\n",
    "print(classification_report(y_test,predab))"
   ]
  },
  {
   "cell_type": "markdown",
   "id": "524c7766-7065-4b65-96ad-868be1579f43",
   "metadata": {},
   "source": [
    "### 6) BaggingClassifier"
   ]
  },
  {
   "cell_type": "code",
   "execution_count": 65,
   "id": "411c7602-0668-4508-b89e-23cb55f239c0",
   "metadata": {},
   "outputs": [
    {
     "name": "stdout",
     "output_type": "stream",
     "text": [
      "0.9406283598136423\n",
      "[[8044  381]\n",
      " [ 613 7704]]\n",
      "              precision    recall  f1-score   support\n",
      "\n",
      "         0.0       0.93      0.95      0.94      8425\n",
      "         1.0       0.95      0.93      0.94      8317\n",
      "\n",
      "    accuracy                           0.94     16742\n",
      "   macro avg       0.94      0.94      0.94     16742\n",
      "weighted avg       0.94      0.94      0.94     16742\n",
      "\n"
     ]
    }
   ],
   "source": [
    "# Checking accuracy of BaggingClassifier\n",
    "bc =  BaggingClassifier()\n",
    "bc.fit(x_train,y_train)\n",
    "predbc = bc.predict(x_test)\n",
    "print(accuracy_score(y_test,predbc))\n",
    "print(confusion_matrix(y_test,predbc))\n",
    "print(classification_report(y_test,predbc))"
   ]
  },
  {
   "cell_type": "markdown",
   "id": "81b4bd00-9aff-41d4-a5cb-337df63c6cb2",
   "metadata": {},
   "source": [
    "### 7) ExtraTreesClassifier"
   ]
  },
  {
   "cell_type": "code",
   "execution_count": 66,
   "id": "46eb5818-fa75-43b0-8bfc-4e133446d308",
   "metadata": {},
   "outputs": [
    {
     "name": "stdout",
     "output_type": "stream",
     "text": [
      "0.9546051845657627\n",
      "[[8085  340]\n",
      " [ 420 7897]]\n",
      "              precision    recall  f1-score   support\n",
      "\n",
      "         0.0       0.95      0.96      0.96      8425\n",
      "         1.0       0.96      0.95      0.95      8317\n",
      "\n",
      "    accuracy                           0.95     16742\n",
      "   macro avg       0.95      0.95      0.95     16742\n",
      "weighted avg       0.95      0.95      0.95     16742\n",
      "\n"
     ]
    }
   ],
   "source": [
    "# Checking accuracy of ExtraTreesClassifier\n",
    "etc =  ExtraTreesClassifier()\n",
    "etc.fit(x_train,y_train)\n",
    "predetc = etc.predict(x_test)\n",
    "print(accuracy_score(y_test,predetc))\n",
    "print(confusion_matrix(y_test,predetc))\n",
    "print(classification_report(y_test,predetc))"
   ]
  },
  {
   "cell_type": "markdown",
   "id": "2ab03708-b713-4afe-96c9-74cfd042707a",
   "metadata": {},
   "source": [
    "## Cross Valiadation Score"
   ]
  },
  {
   "cell_type": "code",
   "execution_count": 68,
   "id": "d16545fa-df26-4828-af0c-4ccd94998615",
   "metadata": {},
   "outputs": [
    {
     "name": "stdout",
     "output_type": "stream",
     "text": [
      "[0.73490414 0.97545023 0.97356868 0.97356868 0.97168712]\n",
      "0.9258357691221388\n",
      "Difference between Accuracy score and cross validation score for Random Forest Classifier is  0.024707774062665888\n"
     ]
    }
   ],
   "source": [
    "# Checking cv score for RandomForestClassifier\n",
    "score = cross_val_score(rfc,x1,y1)\n",
    "print(score)\n",
    "print(score.mean())\n",
    "print(\"Difference between Accuracy score and cross validation score for Random Forest Classifier is \",accuracy_score(y_test,predrfc)-score.mean())"
   ]
  },
  {
   "cell_type": "code",
   "execution_count": 69,
   "id": "9feb4499-e34e-4a4c-b31d-e431435f3a7a",
   "metadata": {},
   "outputs": [
    {
     "name": "stdout",
     "output_type": "stream",
     "text": [
      "[0.76545422 0.79150614 0.78738464 0.79123734 0.78227757]\n",
      "0.7835719836176027\n",
      "Difference between Accuracy score and cross validation score for LogisticRegression is  0.0076715954052141155\n"
     ]
    }
   ],
   "source": [
    "# Checking cv score for LogisticRegression\n",
    "score = cross_val_score(lc,x1,y1)\n",
    "print(score)\n",
    "print(score.mean())\n",
    "print(\"Difference between Accuracy score and cross validation score for LogisticRegression is \",accuracy_score(y_test,predlc)-score.mean())"
   ]
  },
  {
   "cell_type": "code",
   "execution_count": 70,
   "id": "681eea9d-d8ae-445a-baff-9e08628ef6a9",
   "metadata": {},
   "outputs": [
    {
     "name": "stdout",
     "output_type": "stream",
     "text": [
      "[0.71806128 0.96299615 0.96398172 0.96631126 0.96272735]\n",
      "0.9148155530637159\n",
      "Difference between Accuracy score and cross validation score for GradientBoostingClassifier is  0.02611145685146754\n"
     ]
    }
   ],
   "source": [
    "# Checking cv score for GradientBoostingClassifier\n",
    "score = cross_val_score(gb,x1,y1)\n",
    "print(score)\n",
    "print(score.mean())\n",
    "print(\"Difference between Accuracy score and cross validation score for GradientBoostingClassifier is \",accuracy_score(y_test,predgb)-score.mean())"
   ]
  },
  {
   "cell_type": "code",
   "execution_count": 72,
   "id": "36236172-31be-4094-a438-31d63881e1ec",
   "metadata": {},
   "outputs": [
    {
     "name": "stdout",
     "output_type": "stream",
     "text": [
      "[0.72585558 0.72224711 0.72493504 0.72215751 0.72027596]\n",
      "0.7230942414553995\n",
      "Difference between Accuracy score and cross validation score for support Vector Machine Classifier is  0.009494457624758201\n"
     ]
    }
   ],
   "source": [
    "# Checking cv score for support Vector Machine Classifier\n",
    "score = cross_val_score(svc,x1,y1)\n",
    "print(score)\n",
    "print(score.mean())\n",
    "print(\"Difference between Accuracy score and cross validation score for support Vector Machine Classifier is \",accuracy_score(y_test,predsvc)-score.mean())"
   ]
  },
  {
   "cell_type": "code",
   "execution_count": 73,
   "id": "b2219337-60ce-4e75-bd37-e4d9fde5af54",
   "metadata": {},
   "outputs": [
    {
     "name": "stdout",
     "output_type": "stream",
     "text": [
      "[0.73848773 0.95475316 0.95287161 0.95815787 0.95134845]\n",
      "0.911123761531651\n",
      "Difference between Accuracy score and cross validation score for AdaBoosting Classifier is  0.01929076480928793\n"
     ]
    }
   ],
   "source": [
    "# Checking cv score for AdaBoosting Classifier\n",
    "score = cross_val_score(ab,x1,y1)\n",
    "print(score)\n",
    "print(score.mean())\n",
    "print(\"Difference between Accuracy score and cross validation score for AdaBoosting Classifier is \",accuracy_score(y_test,predab)-score.mean())"
   ]
  },
  {
   "cell_type": "code",
   "execution_count": 74,
   "id": "73004b6a-d03e-4c3d-b8e5-75e68b6bf759",
   "metadata": {},
   "outputs": [
    {
     "name": "stdout",
     "output_type": "stream",
     "text": [
      "[0.72818491 0.97159753 0.96774483 0.96702804 0.96711764]\n",
      "0.920334590360844\n",
      "Difference between Accuracy score and cross validation score for Bagging Classifier is  0.02029376945279837\n"
     ]
    }
   ],
   "source": [
    "# Checking cv score for Bagging Classifier\n",
    "score = cross_val_score(bc,x1,y1)\n",
    "print(score)\n",
    "print(score.mean())\n",
    "print(\"Difference between Accuracy score and cross validation score for Bagging Classifier is \",accuracy_score(y_test,predbc)-score.mean())"
   ]
  },
  {
   "cell_type": "code",
   "execution_count": 75,
   "id": "db08ec9d-1853-4a68-8266-ad7f8b6b5acc",
   "metadata": {},
   "outputs": [
    {
     "name": "stdout",
     "output_type": "stream",
     "text": [
      "[0.80415696 0.97491264 0.97536063 0.9764358  0.97383747]\n",
      "0.9409407014253002\n",
      "Difference between Accuracy score and cross validation score for Extra Trees Classifier is  0.013664483140462536\n"
     ]
    }
   ],
   "source": [
    "# Checking cv score for Extra Trees Classifier\n",
    "score = cross_val_score(etc,x1,y1)\n",
    "print(score)\n",
    "print(score.mean())\n",
    "print(\"Difference between Accuracy score and cross validation score for Extra Trees Classifier is \",accuracy_score(y_test,predetc)-score.mean())"
   ]
  },
  {
   "cell_type": "markdown",
   "id": "0a53a704-ab6a-4803-8335-3defb1e072bb",
   "metadata": {},
   "source": [
    "#### Here the Extra tree classifier performed the best "
   ]
  },
  {
   "cell_type": "markdown",
   "id": "e040d3a8-dad8-4ddb-99f9-c777c871e983",
   "metadata": {},
   "source": [
    "## Hyper Parameter Tuning"
   ]
  },
  {
   "cell_type": "code",
   "execution_count": 76,
   "id": "7e5d8ee4-5e89-41ec-86a2-8a04b0126ccb",
   "metadata": {},
   "outputs": [],
   "source": [
    "# Extra Trees Classifier\n",
    "from sklearn.model_selection import GridSearchCV\n",
    "\n",
    "parameters={\"criterion\":[\"gini\",\"entropy\"],\n",
    "           \"random_state\":[10,50,1000],\n",
    "           \"max_depth\":[0,10,20],\n",
    "           \"n_jobs\":[-2,-1,1],\n",
    "           \"n_estimators\":[50,100,200,300]}"
   ]
  },
  {
   "cell_type": "code",
   "execution_count": 77,
   "id": "765cbed8-b3a3-423c-9e76-a6d4130920ed",
   "metadata": {},
   "outputs": [],
   "source": [
    "gcv = GridSearchCV(ExtraTreesClassifier(),parameters,cv=5)"
   ]
  },
  {
   "cell_type": "code",
   "execution_count": 78,
   "id": "2acaa0d6-d7f8-412c-9219-ffec8e6632e8",
   "metadata": {},
   "outputs": [
    {
     "data": {
      "text/html": [
       "<style>#sk-container-id-1 {color: black;background-color: white;}#sk-container-id-1 pre{padding: 0;}#sk-container-id-1 div.sk-toggleable {background-color: white;}#sk-container-id-1 label.sk-toggleable__label {cursor: pointer;display: block;width: 100%;margin-bottom: 0;padding: 0.3em;box-sizing: border-box;text-align: center;}#sk-container-id-1 label.sk-toggleable__label-arrow:before {content: \"▸\";float: left;margin-right: 0.25em;color: #696969;}#sk-container-id-1 label.sk-toggleable__label-arrow:hover:before {color: black;}#sk-container-id-1 div.sk-estimator:hover label.sk-toggleable__label-arrow:before {color: black;}#sk-container-id-1 div.sk-toggleable__content {max-height: 0;max-width: 0;overflow: hidden;text-align: left;background-color: #f0f8ff;}#sk-container-id-1 div.sk-toggleable__content pre {margin: 0.2em;color: black;border-radius: 0.25em;background-color: #f0f8ff;}#sk-container-id-1 input.sk-toggleable__control:checked~div.sk-toggleable__content {max-height: 200px;max-width: 100%;overflow: auto;}#sk-container-id-1 input.sk-toggleable__control:checked~label.sk-toggleable__label-arrow:before {content: \"▾\";}#sk-container-id-1 div.sk-estimator input.sk-toggleable__control:checked~label.sk-toggleable__label {background-color: #d4ebff;}#sk-container-id-1 div.sk-label input.sk-toggleable__control:checked~label.sk-toggleable__label {background-color: #d4ebff;}#sk-container-id-1 input.sk-hidden--visually {border: 0;clip: rect(1px 1px 1px 1px);clip: rect(1px, 1px, 1px, 1px);height: 1px;margin: -1px;overflow: hidden;padding: 0;position: absolute;width: 1px;}#sk-container-id-1 div.sk-estimator {font-family: monospace;background-color: #f0f8ff;border: 1px dotted black;border-radius: 0.25em;box-sizing: border-box;margin-bottom: 0.5em;}#sk-container-id-1 div.sk-estimator:hover {background-color: #d4ebff;}#sk-container-id-1 div.sk-parallel-item::after {content: \"\";width: 100%;border-bottom: 1px solid gray;flex-grow: 1;}#sk-container-id-1 div.sk-label:hover label.sk-toggleable__label {background-color: #d4ebff;}#sk-container-id-1 div.sk-serial::before {content: \"\";position: absolute;border-left: 1px solid gray;box-sizing: border-box;top: 0;bottom: 0;left: 50%;z-index: 0;}#sk-container-id-1 div.sk-serial {display: flex;flex-direction: column;align-items: center;background-color: white;padding-right: 0.2em;padding-left: 0.2em;position: relative;}#sk-container-id-1 div.sk-item {position: relative;z-index: 1;}#sk-container-id-1 div.sk-parallel {display: flex;align-items: stretch;justify-content: center;background-color: white;position: relative;}#sk-container-id-1 div.sk-item::before, #sk-container-id-1 div.sk-parallel-item::before {content: \"\";position: absolute;border-left: 1px solid gray;box-sizing: border-box;top: 0;bottom: 0;left: 50%;z-index: -1;}#sk-container-id-1 div.sk-parallel-item {display: flex;flex-direction: column;z-index: 1;position: relative;background-color: white;}#sk-container-id-1 div.sk-parallel-item:first-child::after {align-self: flex-end;width: 50%;}#sk-container-id-1 div.sk-parallel-item:last-child::after {align-self: flex-start;width: 50%;}#sk-container-id-1 div.sk-parallel-item:only-child::after {width: 0;}#sk-container-id-1 div.sk-dashed-wrapped {border: 1px dashed gray;margin: 0 0.4em 0.5em 0.4em;box-sizing: border-box;padding-bottom: 0.4em;background-color: white;}#sk-container-id-1 div.sk-label label {font-family: monospace;font-weight: bold;display: inline-block;line-height: 1.2em;}#sk-container-id-1 div.sk-label-container {text-align: center;}#sk-container-id-1 div.sk-container {/* jupyter's `normalize.less` sets `[hidden] { display: none; }` but bootstrap.min.css set `[hidden] { display: none !important; }` so we also need the `!important` here to be able to override the default hidden behavior on the sphinx rendered scikit-learn.org. See: https://github.com/scikit-learn/scikit-learn/issues/21755 */display: inline-block !important;position: relative;}#sk-container-id-1 div.sk-text-repr-fallback {display: none;}</style><div id=\"sk-container-id-1\" class=\"sk-top-container\"><div class=\"sk-text-repr-fallback\"><pre>GridSearchCV(cv=5, estimator=ExtraTreesClassifier(),\n",
       "             param_grid={&#x27;criterion&#x27;: [&#x27;gini&#x27;, &#x27;entropy&#x27;],\n",
       "                         &#x27;max_depth&#x27;: [0, 10, 20],\n",
       "                         &#x27;n_estimators&#x27;: [50, 100, 200, 300],\n",
       "                         &#x27;n_jobs&#x27;: [-2, -1, 1],\n",
       "                         &#x27;random_state&#x27;: [10, 50, 1000]})</pre><b>In a Jupyter environment, please rerun this cell to show the HTML representation or trust the notebook. <br />On GitHub, the HTML representation is unable to render, please try loading this page with nbviewer.org.</b></div><div class=\"sk-container\" hidden><div class=\"sk-item sk-dashed-wrapped\"><div class=\"sk-label-container\"><div class=\"sk-label sk-toggleable\"><input class=\"sk-toggleable__control sk-hidden--visually\" id=\"sk-estimator-id-1\" type=\"checkbox\" ><label for=\"sk-estimator-id-1\" class=\"sk-toggleable__label sk-toggleable__label-arrow\">GridSearchCV</label><div class=\"sk-toggleable__content\"><pre>GridSearchCV(cv=5, estimator=ExtraTreesClassifier(),\n",
       "             param_grid={&#x27;criterion&#x27;: [&#x27;gini&#x27;, &#x27;entropy&#x27;],\n",
       "                         &#x27;max_depth&#x27;: [0, 10, 20],\n",
       "                         &#x27;n_estimators&#x27;: [50, 100, 200, 300],\n",
       "                         &#x27;n_jobs&#x27;: [-2, -1, 1],\n",
       "                         &#x27;random_state&#x27;: [10, 50, 1000]})</pre></div></div></div><div class=\"sk-parallel\"><div class=\"sk-parallel-item\"><div class=\"sk-item\"><div class=\"sk-label-container\"><div class=\"sk-label sk-toggleable\"><input class=\"sk-toggleable__control sk-hidden--visually\" id=\"sk-estimator-id-2\" type=\"checkbox\" ><label for=\"sk-estimator-id-2\" class=\"sk-toggleable__label sk-toggleable__label-arrow\">estimator: ExtraTreesClassifier</label><div class=\"sk-toggleable__content\"><pre>ExtraTreesClassifier()</pre></div></div></div><div class=\"sk-serial\"><div class=\"sk-item\"><div class=\"sk-estimator sk-toggleable\"><input class=\"sk-toggleable__control sk-hidden--visually\" id=\"sk-estimator-id-3\" type=\"checkbox\" ><label for=\"sk-estimator-id-3\" class=\"sk-toggleable__label sk-toggleable__label-arrow\">ExtraTreesClassifier</label><div class=\"sk-toggleable__content\"><pre>ExtraTreesClassifier()</pre></div></div></div></div></div></div></div></div></div></div>"
      ],
      "text/plain": [
       "GridSearchCV(cv=5, estimator=ExtraTreesClassifier(),\n",
       "             param_grid={'criterion': ['gini', 'entropy'],\n",
       "                         'max_depth': [0, 10, 20],\n",
       "                         'n_estimators': [50, 100, 200, 300],\n",
       "                         'n_jobs': [-2, -1, 1],\n",
       "                         'random_state': [10, 50, 1000]})"
      ]
     },
     "execution_count": 78,
     "metadata": {},
     "output_type": "execute_result"
    }
   ],
   "source": [
    "gcv.fit(x_train,y_train)"
   ]
  },
  {
   "cell_type": "code",
   "execution_count": 79,
   "id": "b32f79e0-2506-4b2f-9a37-ab208c3d6611",
   "metadata": {},
   "outputs": [
    {
     "data": {
      "text/plain": [
       "{'criterion': 'gini',\n",
       " 'max_depth': 20,\n",
       " 'n_estimators': 300,\n",
       " 'n_jobs': -2,\n",
       " 'random_state': 1000}"
      ]
     },
     "execution_count": 79,
     "metadata": {},
     "output_type": "execute_result"
    }
   ],
   "source": [
    "gcv.best_params_"
   ]
  },
  {
   "cell_type": "code",
   "execution_count": 80,
   "id": "f6e30e91-bd9e-4f5f-b88c-186567ca2f72",
   "metadata": {},
   "outputs": [
    {
     "name": "stdout",
     "output_type": "stream",
     "text": [
      "94.37343208696691\n"
     ]
    }
   ],
   "source": [
    "final_model = ExtraTreesClassifier(criterion=\"gini\",max_depth=20,n_estimators=300,n_jobs=-2,random_state=1000)\n",
    "final_model.fit(x_train,y_train)\n",
    "pred = final_model.predict(x_test)\n",
    "acc = accuracy_score(y_test,pred)\n",
    "print(acc*100)"
   ]
  },
  {
   "cell_type": "markdown",
   "id": "68c065fe-0cac-44af-8037-2db4cf945543",
   "metadata": {},
   "source": [
    "## Plotting ROC and compare AUC for all the models used\n"
   ]
  },
  {
   "cell_type": "code",
   "execution_count": 81,
   "id": "92aa6aae-7004-4f52-b7eb-32d3e601ad83",
   "metadata": {},
   "outputs": [
    {
     "data": {
      "text/plain": [
       "<sklearn.metrics._plot.roc_curve.RocCurveDisplay at 0x2bb850dbf50>"
      ]
     },
     "execution_count": 81,
     "metadata": {},
     "output_type": "execute_result"
    },
    {
     "data": {
      "image/png": "[encoded data removed]",
      "text/plain": [
       "<Figure size 640x480 with 1 Axes>"
      ]
     },
     "metadata": {},
     "output_type": "display_data"
    }
   ],
   "source": [
    "# plotting for all the models used here\n",
    "from sklearn import metrics\n",
    "fpr, tpr, thresholds = metrics.roc_curve(y_test,pred)\n",
    "roc_auc = metrics.auc(fpr,tpr)\n",
    "display = metrics.RocCurveDisplay(fpr=fpr,tpr=tpr,roc_auc=roc_auc,estimator_name=final_model)\n",
    "display.plot()"
   ]
  },
  {
   "cell_type": "markdown",
   "id": "3208c628-6332-4315-89c2-b6bc3b6e7fd7",
   "metadata": {},
   "source": [
    "## Saving the model"
   ]
  },
  {
   "cell_type": "code",
   "execution_count": 82,
   "id": "3ce8d978-79a7-40c5-a33d-e0257e957b12",
   "metadata": {},
   "outputs": [
    {
     "data": {
      "text/plain": [
       "['Bank_Marketing.pkl']"
      ]
     },
     "execution_count": 82,
     "metadata": {},
     "output_type": "execute_result"
    }
   ],
   "source": [
    "#savig the model using .pkl\n",
    "import joblib\n",
    "joblib.dump(final_model,'Bank_Marketing.pkl')"
   ]
  },
  {
   "cell_type": "markdown",
   "id": "dd8cb015-ec82-468d-bf70-951222e7b44c",
   "metadata": {},
   "source": [
    "## Predicting from the saved model"
   ]
  },
  {
   "cell_type": "code",
   "execution_count": 85,
   "id": "e0651972-b35c-45c5-922e-eddd82582520",
   "metadata": {},
   "outputs": [
    {
     "data": {
      "text/plain": [
       "array([1., 1., 1., ..., 1., 0., 0.])"
      ]
     },
     "execution_count": 85,
     "metadata": {},
     "output_type": "execute_result"
    }
   ],
   "source": [
    "# lets load the saved modle and get the predictions\n",
    "model = joblib.load(\"Bank_Marketing.pkl\")\n",
    "\n",
    "#predictions\n",
    "prediction = model.predict(x_test)\n",
    "prediction"
   ]
  },
  {
   "cell_type": "code",
   "execution_count": 86,
   "id": "2b49e6bf-066f-4c6e-a33e-04c6ff399e1f",
   "metadata": {},
   "outputs": [
    {
     "data": {
      "text/html": [
       "<div>\n",
       "<style scoped>\n",
       "    .dataframe tbody tr th:only-of-type {\n",
       "        vertical-align: middle;\n",
       "    }\n",
       "\n",
       "    .dataframe tbody tr th {\n",
       "        vertical-align: top;\n",
       "    }\n",
       "\n",
       "    .dataframe thead th {\n",
       "        text-align: right;\n",
       "    }\n",
       "</style>\n",
       "<table border=\"1\" class=\"dataframe\">\n",
       "  <thead>\n",
       "    <tr style=\"text-align: right;\">\n",
       "      <th></th>\n",
       "      <th>predicted</th>\n",
       "      <th>original</th>\n",
       "    </tr>\n",
       "  </thead>\n",
       "  <tbody>\n",
       "    <tr>\n",
       "      <th>1721</th>\n",
       "      <td>1.0</td>\n",
       "      <td>1.0</td>\n",
       "    </tr>\n",
       "    <tr>\n",
       "      <th>2125</th>\n",
       "      <td>0.0</td>\n",
       "      <td>0.0</td>\n",
       "    </tr>\n",
       "    <tr>\n",
       "      <th>15350</th>\n",
       "      <td>1.0</td>\n",
       "      <td>1.0</td>\n",
       "    </tr>\n",
       "    <tr>\n",
       "      <th>16318</th>\n",
       "      <td>0.0</td>\n",
       "      <td>0.0</td>\n",
       "    </tr>\n",
       "    <tr>\n",
       "      <th>6579</th>\n",
       "      <td>0.0</td>\n",
       "      <td>0.0</td>\n",
       "    </tr>\n",
       "    <tr>\n",
       "      <th>13654</th>\n",
       "      <td>1.0</td>\n",
       "      <td>1.0</td>\n",
       "    </tr>\n",
       "    <tr>\n",
       "      <th>1857</th>\n",
       "      <td>1.0</td>\n",
       "      <td>1.0</td>\n",
       "    </tr>\n",
       "    <tr>\n",
       "      <th>4498</th>\n",
       "      <td>0.0</td>\n",
       "      <td>0.0</td>\n",
       "    </tr>\n",
       "    <tr>\n",
       "      <th>13620</th>\n",
       "      <td>1.0</td>\n",
       "      <td>1.0</td>\n",
       "    </tr>\n",
       "    <tr>\n",
       "      <th>16459</th>\n",
       "      <td>1.0</td>\n",
       "      <td>1.0</td>\n",
       "    </tr>\n",
       "    <tr>\n",
       "      <th>158</th>\n",
       "      <td>1.0</td>\n",
       "      <td>1.0</td>\n",
       "    </tr>\n",
       "    <tr>\n",
       "      <th>14196</th>\n",
       "      <td>0.0</td>\n",
       "      <td>0.0</td>\n",
       "    </tr>\n",
       "    <tr>\n",
       "      <th>13844</th>\n",
       "      <td>0.0</td>\n",
       "      <td>1.0</td>\n",
       "    </tr>\n",
       "    <tr>\n",
       "      <th>13795</th>\n",
       "      <td>1.0</td>\n",
       "      <td>1.0</td>\n",
       "    </tr>\n",
       "    <tr>\n",
       "      <th>2123</th>\n",
       "      <td>0.0</td>\n",
       "      <td>0.0</td>\n",
       "    </tr>\n",
       "    <tr>\n",
       "      <th>12643</th>\n",
       "      <td>0.0</td>\n",
       "      <td>0.0</td>\n",
       "    </tr>\n",
       "    <tr>\n",
       "      <th>13200</th>\n",
       "      <td>1.0</td>\n",
       "      <td>1.0</td>\n",
       "    </tr>\n",
       "    <tr>\n",
       "      <th>996</th>\n",
       "      <td>1.0</td>\n",
       "      <td>1.0</td>\n",
       "    </tr>\n",
       "    <tr>\n",
       "      <th>6025</th>\n",
       "      <td>0.0</td>\n",
       "      <td>0.0</td>\n",
       "    </tr>\n",
       "    <tr>\n",
       "      <th>15168</th>\n",
       "      <td>1.0</td>\n",
       "      <td>1.0</td>\n",
       "    </tr>\n",
       "    <tr>\n",
       "      <th>14018</th>\n",
       "      <td>0.0</td>\n",
       "      <td>0.0</td>\n",
       "    </tr>\n",
       "    <tr>\n",
       "      <th>14639</th>\n",
       "      <td>0.0</td>\n",
       "      <td>0.0</td>\n",
       "    </tr>\n",
       "    <tr>\n",
       "      <th>4549</th>\n",
       "      <td>1.0</td>\n",
       "      <td>1.0</td>\n",
       "    </tr>\n",
       "    <tr>\n",
       "      <th>13727</th>\n",
       "      <td>0.0</td>\n",
       "      <td>0.0</td>\n",
       "    </tr>\n",
       "    <tr>\n",
       "      <th>119</th>\n",
       "      <td>0.0</td>\n",
       "      <td>0.0</td>\n",
       "    </tr>\n",
       "    <tr>\n",
       "      <th>5495</th>\n",
       "      <td>0.0</td>\n",
       "      <td>0.0</td>\n",
       "    </tr>\n",
       "    <tr>\n",
       "      <th>14456</th>\n",
       "      <td>0.0</td>\n",
       "      <td>0.0</td>\n",
       "    </tr>\n",
       "    <tr>\n",
       "      <th>14980</th>\n",
       "      <td>0.0</td>\n",
       "      <td>0.0</td>\n",
       "    </tr>\n",
       "    <tr>\n",
       "      <th>11552</th>\n",
       "      <td>0.0</td>\n",
       "      <td>0.0</td>\n",
       "    </tr>\n",
       "    <tr>\n",
       "      <th>5992</th>\n",
       "      <td>1.0</td>\n",
       "      <td>1.0</td>\n",
       "    </tr>\n",
       "  </tbody>\n",
       "</table>\n",
       "</div>"
      ],
      "text/plain": [
       "       predicted  original\n",
       "1721         1.0       1.0\n",
       "2125         0.0       0.0\n",
       "15350        1.0       1.0\n",
       "16318        0.0       0.0\n",
       "6579         0.0       0.0\n",
       "13654        1.0       1.0\n",
       "1857         1.0       1.0\n",
       "4498         0.0       0.0\n",
       "13620        1.0       1.0\n",
       "16459        1.0       1.0\n",
       "158          1.0       1.0\n",
       "14196        0.0       0.0\n",
       "13844        0.0       1.0\n",
       "13795        1.0       1.0\n",
       "2123         0.0       0.0\n",
       "12643        0.0       0.0\n",
       "13200        1.0       1.0\n",
       "996          1.0       1.0\n",
       "6025         0.0       0.0\n",
       "15168        1.0       1.0\n",
       "14018        0.0       0.0\n",
       "14639        0.0       0.0\n",
       "4549         1.0       1.0\n",
       "13727        0.0       0.0\n",
       "119          0.0       0.0\n",
       "5495         0.0       0.0\n",
       "14456        0.0       0.0\n",
       "14980        0.0       0.0\n",
       "11552        0.0       0.0\n",
       "5992         1.0       1.0"
      ]
     },
     "execution_count": 86,
     "metadata": {},
     "output_type": "execute_result"
    }
   ],
   "source": [
    "a = np.array(y_test)\n",
    "df=pd.DataFrame()\n",
    "df[\"predicted\"] = prediction\n",
    "df[\"original\"] = a\n",
    "df.sample(30)"
   ]
  },
  {
   "cell_type": "markdown",
   "id": "0563bd02-5e91-4e55-a43d-4df965a1e33c",
   "metadata": {},
   "source": [
    "## now lets predict with the test dataset set provided"
   ]
  },
  {
   "cell_type": "code",
   "execution_count": 87,
   "id": "966c6f5d-5c75-456a-8008-7d8fd044e3c7",
   "metadata": {},
   "outputs": [],
   "source": [
    "test_set = pd.read_csv(\"https://raw.githubusercontent.com/FlipRoboTechnologies/ML-Datasets/main/Bank%20Marketing/termdeposit_test.csv\")"
   ]
  },
  {
   "cell_type": "code",
   "execution_count": 95,
   "id": "adc46cb3-0eeb-421e-b610-27ccc2c9c4d4",
   "metadata": {},
   "outputs": [
    {
     "data": {
      "text/html": [
       "<div>\n",
       "<style scoped>\n",
       "    .dataframe tbody tr th:only-of-type {\n",
       "        vertical-align: middle;\n",
       "    }\n",
       "\n",
       "    .dataframe tbody tr th {\n",
       "        vertical-align: top;\n",
       "    }\n",
       "\n",
       "    .dataframe thead th {\n",
       "        text-align: right;\n",
       "    }\n",
       "</style>\n",
       "<table border=\"1\" class=\"dataframe\">\n",
       "  <thead>\n",
       "    <tr style=\"text-align: right;\">\n",
       "      <th></th>\n",
       "      <th>ID</th>\n",
       "      <th>age</th>\n",
       "      <th>job</th>\n",
       "      <th>marital</th>\n",
       "      <th>education</th>\n",
       "      <th>default</th>\n",
       "      <th>balance</th>\n",
       "      <th>housing</th>\n",
       "      <th>loan</th>\n",
       "      <th>contact</th>\n",
       "      <th>day</th>\n",
       "      <th>month</th>\n",
       "      <th>duration</th>\n",
       "      <th>campaign</th>\n",
       "      <th>pdays</th>\n",
       "      <th>previous</th>\n",
       "      <th>poutcome</th>\n",
       "    </tr>\n",
       "  </thead>\n",
       "  <tbody>\n",
       "    <tr>\n",
       "      <th>13549</th>\n",
       "      <td>8494</td>\n",
       "      <td>32</td>\n",
       "      <td>7.0</td>\n",
       "      <td>1.0</td>\n",
       "      <td>1.0</td>\n",
       "      <td>0.0</td>\n",
       "      <td>1464</td>\n",
       "      <td>1.0</td>\n",
       "      <td>0.0</td>\n",
       "      <td>2.0</td>\n",
       "      <td>3</td>\n",
       "      <td>6.0</td>\n",
       "      <td>193</td>\n",
       "      <td>1</td>\n",
       "      <td>-1</td>\n",
       "      <td>0</td>\n",
       "      <td>3.0</td>\n",
       "    </tr>\n",
       "    <tr>\n",
       "      <th>13550</th>\n",
       "      <td>1901</td>\n",
       "      <td>35</td>\n",
       "      <td>4.0</td>\n",
       "      <td>2.0</td>\n",
       "      <td>2.0</td>\n",
       "      <td>0.0</td>\n",
       "      <td>-202</td>\n",
       "      <td>1.0</td>\n",
       "      <td>0.0</td>\n",
       "      <td>2.0</td>\n",
       "      <td>9</td>\n",
       "      <td>8.0</td>\n",
       "      <td>1461</td>\n",
       "      <td>2</td>\n",
       "      <td>-1</td>\n",
       "      <td>0</td>\n",
       "      <td>3.0</td>\n",
       "    </tr>\n",
       "    <tr>\n",
       "      <th>13551</th>\n",
       "      <td>35493</td>\n",
       "      <td>56</td>\n",
       "      <td>9.0</td>\n",
       "      <td>1.0</td>\n",
       "      <td>1.0</td>\n",
       "      <td>0.0</td>\n",
       "      <td>264</td>\n",
       "      <td>1.0</td>\n",
       "      <td>1.0</td>\n",
       "      <td>0.0</td>\n",
       "      <td>7</td>\n",
       "      <td>8.0</td>\n",
       "      <td>639</td>\n",
       "      <td>2</td>\n",
       "      <td>280</td>\n",
       "      <td>5</td>\n",
       "      <td>2.0</td>\n",
       "    </tr>\n",
       "    <tr>\n",
       "      <th>13552</th>\n",
       "      <td>15162</td>\n",
       "      <td>45</td>\n",
       "      <td>9.0</td>\n",
       "      <td>1.0</td>\n",
       "      <td>1.0</td>\n",
       "      <td>0.0</td>\n",
       "      <td>1081</td>\n",
       "      <td>1.0</td>\n",
       "      <td>0.0</td>\n",
       "      <td>0.0</td>\n",
       "      <td>17</td>\n",
       "      <td>5.0</td>\n",
       "      <td>127</td>\n",
       "      <td>3</td>\n",
       "      <td>-1</td>\n",
       "      <td>0</td>\n",
       "      <td>3.0</td>\n",
       "    </tr>\n",
       "    <tr>\n",
       "      <th>13553</th>\n",
       "      <td>20780</td>\n",
       "      <td>50</td>\n",
       "      <td>6.0</td>\n",
       "      <td>1.0</td>\n",
       "      <td>1.0</td>\n",
       "      <td>0.0</td>\n",
       "      <td>36</td>\n",
       "      <td>0.0</td>\n",
       "      <td>0.0</td>\n",
       "      <td>0.0</td>\n",
       "      <td>13</td>\n",
       "      <td>1.0</td>\n",
       "      <td>104</td>\n",
       "      <td>10</td>\n",
       "      <td>-1</td>\n",
       "      <td>0</td>\n",
       "      <td>3.0</td>\n",
       "    </tr>\n",
       "    <tr>\n",
       "      <th>13554</th>\n",
       "      <td>11568</td>\n",
       "      <td>51</td>\n",
       "      <td>10.0</td>\n",
       "      <td>1.0</td>\n",
       "      <td>1.0</td>\n",
       "      <td>0.0</td>\n",
       "      <td>-267</td>\n",
       "      <td>0.0</td>\n",
       "      <td>1.0</td>\n",
       "      <td>2.0</td>\n",
       "      <td>19</td>\n",
       "      <td>6.0</td>\n",
       "      <td>208</td>\n",
       "      <td>2</td>\n",
       "      <td>-1</td>\n",
       "      <td>0</td>\n",
       "      <td>3.0</td>\n",
       "    </tr>\n",
       "    <tr>\n",
       "      <th>13555</th>\n",
       "      <td>23487</td>\n",
       "      <td>34</td>\n",
       "      <td>4.0</td>\n",
       "      <td>2.0</td>\n",
       "      <td>2.0</td>\n",
       "      <td>0.0</td>\n",
       "      <td>1070</td>\n",
       "      <td>0.0</td>\n",
       "      <td>0.0</td>\n",
       "      <td>0.0</td>\n",
       "      <td>28</td>\n",
       "      <td>1.0</td>\n",
       "      <td>91</td>\n",
       "      <td>15</td>\n",
       "      <td>-1</td>\n",
       "      <td>0</td>\n",
       "      <td>3.0</td>\n",
       "    </tr>\n",
       "    <tr>\n",
       "      <th>13556</th>\n",
       "      <td>27122</td>\n",
       "      <td>46</td>\n",
       "      <td>6.0</td>\n",
       "      <td>1.0</td>\n",
       "      <td>0.0</td>\n",
       "      <td>0.0</td>\n",
       "      <td>3155</td>\n",
       "      <td>1.0</td>\n",
       "      <td>0.0</td>\n",
       "      <td>0.0</td>\n",
       "      <td>21</td>\n",
       "      <td>9.0</td>\n",
       "      <td>271</td>\n",
       "      <td>1</td>\n",
       "      <td>-1</td>\n",
       "      <td>0</td>\n",
       "      <td>3.0</td>\n",
       "    </tr>\n",
       "    <tr>\n",
       "      <th>13557</th>\n",
       "      <td>837</td>\n",
       "      <td>30</td>\n",
       "      <td>7.0</td>\n",
       "      <td>2.0</td>\n",
       "      <td>1.0</td>\n",
       "      <td>0.0</td>\n",
       "      <td>-174</td>\n",
       "      <td>1.0</td>\n",
       "      <td>0.0</td>\n",
       "      <td>2.0</td>\n",
       "      <td>7</td>\n",
       "      <td>8.0</td>\n",
       "      <td>113</td>\n",
       "      <td>1</td>\n",
       "      <td>-1</td>\n",
       "      <td>0</td>\n",
       "      <td>3.0</td>\n",
       "    </tr>\n",
       "    <tr>\n",
       "      <th>13558</th>\n",
       "      <td>35237</td>\n",
       "      <td>32</td>\n",
       "      <td>9.0</td>\n",
       "      <td>2.0</td>\n",
       "      <td>1.0</td>\n",
       "      <td>0.0</td>\n",
       "      <td>129</td>\n",
       "      <td>1.0</td>\n",
       "      <td>0.0</td>\n",
       "      <td>0.0</td>\n",
       "      <td>7</td>\n",
       "      <td>8.0</td>\n",
       "      <td>213</td>\n",
       "      <td>1</td>\n",
       "      <td>-1</td>\n",
       "      <td>0</td>\n",
       "      <td>3.0</td>\n",
       "    </tr>\n",
       "    <tr>\n",
       "      <th>13559</th>\n",
       "      <td>23465</td>\n",
       "      <td>39</td>\n",
       "      <td>4.0</td>\n",
       "      <td>1.0</td>\n",
       "      <td>2.0</td>\n",
       "      <td>0.0</td>\n",
       "      <td>45</td>\n",
       "      <td>0.0</td>\n",
       "      <td>0.0</td>\n",
       "      <td>0.0</td>\n",
       "      <td>28</td>\n",
       "      <td>1.0</td>\n",
       "      <td>148</td>\n",
       "      <td>4</td>\n",
       "      <td>-1</td>\n",
       "      <td>0</td>\n",
       "      <td>3.0</td>\n",
       "    </tr>\n",
       "    <tr>\n",
       "      <th>13560</th>\n",
       "      <td>11743</td>\n",
       "      <td>54</td>\n",
       "      <td>1.0</td>\n",
       "      <td>1.0</td>\n",
       "      <td>0.0</td>\n",
       "      <td>0.0</td>\n",
       "      <td>2281</td>\n",
       "      <td>1.0</td>\n",
       "      <td>0.0</td>\n",
       "      <td>2.0</td>\n",
       "      <td>20</td>\n",
       "      <td>6.0</td>\n",
       "      <td>158</td>\n",
       "      <td>1</td>\n",
       "      <td>-1</td>\n",
       "      <td>0</td>\n",
       "      <td>3.0</td>\n",
       "    </tr>\n",
       "    <tr>\n",
       "      <th>13561</th>\n",
       "      <td>28292</td>\n",
       "      <td>35</td>\n",
       "      <td>5.0</td>\n",
       "      <td>1.0</td>\n",
       "      <td>0.0</td>\n",
       "      <td>0.0</td>\n",
       "      <td>285</td>\n",
       "      <td>1.0</td>\n",
       "      <td>0.0</td>\n",
       "      <td>0.0</td>\n",
       "      <td>29</td>\n",
       "      <td>4.0</td>\n",
       "      <td>136</td>\n",
       "      <td>1</td>\n",
       "      <td>-1</td>\n",
       "      <td>0</td>\n",
       "      <td>3.0</td>\n",
       "    </tr>\n",
       "    <tr>\n",
       "      <th>13562</th>\n",
       "      <td>45163</td>\n",
       "      <td>29</td>\n",
       "      <td>0.0</td>\n",
       "      <td>2.0</td>\n",
       "      <td>1.0</td>\n",
       "      <td>0.0</td>\n",
       "      <td>464</td>\n",
       "      <td>0.0</td>\n",
       "      <td>0.0</td>\n",
       "      <td>0.0</td>\n",
       "      <td>9</td>\n",
       "      <td>9.0</td>\n",
       "      <td>208</td>\n",
       "      <td>2</td>\n",
       "      <td>91</td>\n",
       "      <td>3</td>\n",
       "      <td>2.0</td>\n",
       "    </tr>\n",
       "    <tr>\n",
       "      <th>13563</th>\n",
       "      <td>34839</td>\n",
       "      <td>29</td>\n",
       "      <td>0.0</td>\n",
       "      <td>1.0</td>\n",
       "      <td>1.0</td>\n",
       "      <td>0.0</td>\n",
       "      <td>2</td>\n",
       "      <td>1.0</td>\n",
       "      <td>0.0</td>\n",
       "      <td>0.0</td>\n",
       "      <td>6</td>\n",
       "      <td>8.0</td>\n",
       "      <td>339</td>\n",
       "      <td>1</td>\n",
       "      <td>362</td>\n",
       "      <td>1</td>\n",
       "      <td>0.0</td>\n",
       "    </tr>\n",
       "  </tbody>\n",
       "</table>\n",
       "</div>"
      ],
      "text/plain": [
       "          ID  age   job  marital  education  default  balance  housing  loan  \\\n",
       "13549   8494   32   7.0      1.0        1.0      0.0     1464      1.0   0.0   \n",
       "13550   1901   35   4.0      2.0        2.0      0.0     -202      1.0   0.0   \n",
       "13551  35493   56   9.0      1.0        1.0      0.0      264      1.0   1.0   \n",
       "13552  15162   45   9.0      1.0        1.0      0.0     1081      1.0   0.0   \n",
       "13553  20780   50   6.0      1.0        1.0      0.0       36      0.0   0.0   \n",
       "13554  11568   51  10.0      1.0        1.0      0.0     -267      0.0   1.0   \n",
       "13555  23487   34   4.0      2.0        2.0      0.0     1070      0.0   0.0   \n",
       "13556  27122   46   6.0      1.0        0.0      0.0     3155      1.0   0.0   \n",
       "13557    837   30   7.0      2.0        1.0      0.0     -174      1.0   0.0   \n",
       "13558  35237   32   9.0      2.0        1.0      0.0      129      1.0   0.0   \n",
       "13559  23465   39   4.0      1.0        2.0      0.0       45      0.0   0.0   \n",
       "13560  11743   54   1.0      1.0        0.0      0.0     2281      1.0   0.0   \n",
       "13561  28292   35   5.0      1.0        0.0      0.0      285      1.0   0.0   \n",
       "13562  45163   29   0.0      2.0        1.0      0.0      464      0.0   0.0   \n",
       "13563  34839   29   0.0      1.0        1.0      0.0        2      1.0   0.0   \n",
       "\n",
       "       contact  day  month  duration  campaign  pdays  previous  poutcome  \n",
       "13549      2.0    3    6.0       193         1     -1         0       3.0  \n",
       "13550      2.0    9    8.0      1461         2     -1         0       3.0  \n",
       "13551      0.0    7    8.0       639         2    280         5       2.0  \n",
       "13552      0.0   17    5.0       127         3     -1         0       3.0  \n",
       "13553      0.0   13    1.0       104        10     -1         0       3.0  \n",
       "13554      2.0   19    6.0       208         2     -1         0       3.0  \n",
       "13555      0.0   28    1.0        91        15     -1         0       3.0  \n",
       "13556      0.0   21    9.0       271         1     -1         0       3.0  \n",
       "13557      2.0    7    8.0       113         1     -1         0       3.0  \n",
       "13558      0.0    7    8.0       213         1     -1         0       3.0  \n",
       "13559      0.0   28    1.0       148         4     -1         0       3.0  \n",
       "13560      2.0   20    6.0       158         1     -1         0       3.0  \n",
       "13561      0.0   29    4.0       136         1     -1         0       3.0  \n",
       "13562      0.0    9    9.0       208         2     91         3       2.0  \n",
       "13563      0.0    6    8.0       339         1    362         1       0.0  "
      ]
     },
     "execution_count": 95,
     "metadata": {},
     "output_type": "execute_result"
    }
   ],
   "source": [
    "# Encoding categorical columns using OrdinalEncoder\n",
    "from sklearn.preprocessing import OrdinalEncoder\n",
    "OE = OrdinalEncoder()\n",
    "for i in test_set.columns:\n",
    "    if test_set[i].dtypes==\"object\":\n",
    "        test_set[i] = OE.fit_transform(test_set[i].values.reshape(-1,1))\n",
    "test_set.tail(15)"
   ]
  },
  {
   "cell_type": "code",
   "execution_count": 96,
   "id": "4e60fb09-15d6-4382-97d2-8d4bfee50f0d",
   "metadata": {},
   "outputs": [
    {
     "data": {
      "text/plain": [
       "array([0., 0., 0., ..., 0., 1., 0.])"
      ]
     },
     "execution_count": 96,
     "metadata": {},
     "output_type": "execute_result"
    }
   ],
   "source": [
    "# lets load the saved modle and get the predictions\n",
    "model = joblib.load(\"Bank_Marketing.pkl\")\n",
    "\n",
    "#predictions\n",
    "prediction = model.predict(test_set.drop(columns=[\"ID\",\"default\",\"pdays\"],axis=1))\n",
    "prediction"
   ]
  },
  {
   "cell_type": "code",
   "execution_count": 98,
   "id": "b5588e9d-3dd1-43e8-a7fa-622287e8dd38",
   "metadata": {},
   "outputs": [
    {
     "data": {
      "text/html": [
       "<div>\n",
       "<style scoped>\n",
       "    .dataframe tbody tr th:only-of-type {\n",
       "        vertical-align: middle;\n",
       "    }\n",
       "\n",
       "    .dataframe tbody tr th {\n",
       "        vertical-align: top;\n",
       "    }\n",
       "\n",
       "    .dataframe thead th {\n",
       "        text-align: right;\n",
       "    }\n",
       "</style>\n",
       "<table border=\"1\" class=\"dataframe\">\n",
       "  <thead>\n",
       "    <tr style=\"text-align: right;\">\n",
       "      <th></th>\n",
       "      <th>prediction</th>\n",
       "    </tr>\n",
       "  </thead>\n",
       "  <tbody>\n",
       "    <tr>\n",
       "      <th>8271</th>\n",
       "      <td>0.0</td>\n",
       "    </tr>\n",
       "    <tr>\n",
       "      <th>5408</th>\n",
       "      <td>0.0</td>\n",
       "    </tr>\n",
       "    <tr>\n",
       "      <th>12627</th>\n",
       "      <td>0.0</td>\n",
       "    </tr>\n",
       "    <tr>\n",
       "      <th>9693</th>\n",
       "      <td>0.0</td>\n",
       "    </tr>\n",
       "    <tr>\n",
       "      <th>7632</th>\n",
       "      <td>0.0</td>\n",
       "    </tr>\n",
       "    <tr>\n",
       "      <th>9682</th>\n",
       "      <td>0.0</td>\n",
       "    </tr>\n",
       "    <tr>\n",
       "      <th>5561</th>\n",
       "      <td>0.0</td>\n",
       "    </tr>\n",
       "    <tr>\n",
       "      <th>10010</th>\n",
       "      <td>1.0</td>\n",
       "    </tr>\n",
       "    <tr>\n",
       "      <th>4216</th>\n",
       "      <td>0.0</td>\n",
       "    </tr>\n",
       "    <tr>\n",
       "      <th>1576</th>\n",
       "      <td>0.0</td>\n",
       "    </tr>\n",
       "  </tbody>\n",
       "</table>\n",
       "</div>"
      ],
      "text/plain": [
       "       prediction\n",
       "8271          0.0\n",
       "5408          0.0\n",
       "12627         0.0\n",
       "9693          0.0\n",
       "7632          0.0\n",
       "9682          0.0\n",
       "5561          0.0\n",
       "10010         1.0\n",
       "4216          0.0\n",
       "1576          0.0"
      ]
     },
     "execution_count": 98,
     "metadata": {},
     "output_type": "execute_result"
    }
   ],
   "source": [
    "prediction_by_model = pd.DataFrame()\n",
    "prediction_by_model[\"prediction\"]=prediction\n",
    "prediction_by_model.sample(10)"
   ]
  },
  {
   "cell_type": "code",
   "execution_count": 99,
   "id": "3062acb3-c55b-4ad3-a5ad-ae4ee033ebd6",
   "metadata": {},
   "outputs": [
    {
     "data": {
      "text/plain": [
       "(13564, 1)"
      ]
     },
     "execution_count": 99,
     "metadata": {},
     "output_type": "execute_result"
    }
   ],
   "source": [
    "prediction_by_model.shape"
   ]
  },
  {
   "cell_type": "markdown",
   "id": "f179f2c2-0eb0-4f0e-988c-5dd9a35cb48d",
   "metadata": {},
   "source": [
    "## so these are the predicted values for the test data set provided"
   ]
  },
  {
   "cell_type": "code",
   "execution_count": null,
   "id": "04c8849d-dfb2-414d-8324-7d9384c6c73b",
   "metadata": {},
   "outputs": [],
   "source": []
  }
 ],
 "metadata": {
  "kernelspec": {
   "display_name": "Python 3 (ipykernel)",
   "language": "python",
   "name": "python3"
  },
  "language_info": {
   "codemirror_mode": {
    "name": "ipython",
    "version": 3
   },
   "file_extension": ".py",
   "mimetype": "text/x-python",
   "name": "python",
   "nbconvert_exporter": "python",
   "pygments_lexer": "ipython3",
   "version": "3.11.7"
  }
 },
 "nbformat": 4,
 "nbformat_minor": 5
}
